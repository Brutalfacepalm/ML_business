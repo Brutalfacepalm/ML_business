{
 "cells": [
  {
   "cell_type": "markdown",
   "metadata": {
    "colab_type": "text",
    "id": "HrxZEq_-FHNq"
   },
   "source": [
    "## Предобработка данных"
   ]
  },
  {
   "cell_type": "code",
   "execution_count": 1,
   "metadata": {
    "colab": {},
    "colab_type": "code",
    "id": "Fj2E6mVkFR10"
   },
   "outputs": [],
   "source": [
    "import numpy as np\n",
    "import pandas as pd"
   ]
  },
  {
   "cell_type": "code",
   "execution_count": 2,
   "metadata": {
    "colab": {
     "base_uri": "https://localhost:8080/",
     "height": 480
    },
    "colab_type": "code",
    "id": "_Vs8YR9eFgvy",
    "outputId": "6404bfad-5534-4759-c5d9-1395e01eef86"
   },
   "outputs": [
    {
     "name": "stdout",
     "output_type": "stream",
     "text": [
      "<class 'pandas.core.frame.DataFrame'>\n",
      "RangeIndex: 115155 entries, 0 to 115154\n",
      "Data columns (total 20 columns):\n",
      " #   Column             Non-Null Count   Dtype  \n",
      "---  ------             --------------   -----  \n",
      " 0   Exposure           115155 non-null  float64\n",
      " 1   LicAge             115155 non-null  int64  \n",
      " 2   RecordBeg          115155 non-null  object \n",
      " 3   RecordEnd          59455 non-null   object \n",
      " 4   Gender             115155 non-null  object \n",
      " 5   MariStat           115155 non-null  object \n",
      " 6   SocioCateg         115155 non-null  object \n",
      " 7   VehUsage           115155 non-null  object \n",
      " 8   DrivAge            115155 non-null  int64  \n",
      " 9   HasKmLimit         115155 non-null  int64  \n",
      " 10  BonusMalus         115155 non-null  int64  \n",
      " 11  ClaimAmount        115155 non-null  float64\n",
      " 12  ClaimInd           115155 non-null  int64  \n",
      " 13  ClaimNbResp        115155 non-null  float64\n",
      " 14  ClaimNbNonResp     115155 non-null  float64\n",
      " 15  ClaimNbParking     115155 non-null  float64\n",
      " 16  ClaimNbFireTheft   115155 non-null  float64\n",
      " 17  ClaimNbWindscreen  115155 non-null  float64\n",
      " 18  OutUseNb           115155 non-null  float64\n",
      " 19  RiskArea           115155 non-null  float64\n",
      "dtypes: float64(9), int64(5), object(6)\n",
      "memory usage: 17.6+ MB\n"
     ]
    }
   ],
   "source": [
    "# Загрузим набор данных\n",
    "\n",
    "df = pd.read_csv('freMPL-R.csv', low_memory=False)\n",
    "df = df.loc[df.Dataset.isin([5, 6, 7, 8, 9])]\n",
    "df.drop('Dataset', axis=1, inplace=True)\n",
    "df.dropna(axis=1, how='all', inplace=True)\n",
    "df.drop_duplicates(inplace=True)\n",
    "df.reset_index(drop=True, inplace=True)\n",
    "df.info()"
   ]
  },
  {
   "cell_type": "markdown",
   "metadata": {
    "colab_type": "text",
    "id": "AtfDb_BWWXqQ"
   },
   "source": [
    "В предыдущем уроке мы заметили отрицательную величину убытка для некоторых наблюдений. Заметим, что для всех таких полисов переменная \"ClaimInd\" принимает только значение 0. Поэтому заменим все соответствующие значения \"ClaimAmount\" нулями."
   ]
  },
  {
   "cell_type": "code",
   "execution_count": 3,
   "metadata": {
    "colab": {
     "base_uri": "https://localhost:8080/",
     "height": 220
    },
    "colab_type": "code",
    "id": "AklwJWsoWnAV",
    "outputId": "f977237c-d6f2-49ad-943a-be017afb097f"
   },
   "outputs": [
    {
     "name": "stdout",
     "output_type": "stream",
     "text": [
      "Unique values of ClaimInd: [0]\n"
     ]
    },
    {
     "data": {
      "text/html": [
       "<div>\n",
       "<style scoped>\n",
       "    .dataframe tbody tr th:only-of-type {\n",
       "        vertical-align: middle;\n",
       "    }\n",
       "\n",
       "    .dataframe tbody tr th {\n",
       "        vertical-align: top;\n",
       "    }\n",
       "\n",
       "    .dataframe thead th {\n",
       "        text-align: right;\n",
       "    }\n",
       "</style>\n",
       "<table border=\"1\" class=\"dataframe\">\n",
       "  <thead>\n",
       "    <tr style=\"text-align: right;\">\n",
       "      <th></th>\n",
       "      <th>ClaimAmount</th>\n",
       "      <th>ClaimInd</th>\n",
       "    </tr>\n",
       "  </thead>\n",
       "  <tbody>\n",
       "    <tr>\n",
       "      <th>82</th>\n",
       "      <td>-74.206042</td>\n",
       "      <td>0</td>\n",
       "    </tr>\n",
       "    <tr>\n",
       "      <th>175</th>\n",
       "      <td>-1222.585196</td>\n",
       "      <td>0</td>\n",
       "    </tr>\n",
       "    <tr>\n",
       "      <th>177</th>\n",
       "      <td>-316.288822</td>\n",
       "      <td>0</td>\n",
       "    </tr>\n",
       "    <tr>\n",
       "      <th>363</th>\n",
       "      <td>-666.758610</td>\n",
       "      <td>0</td>\n",
       "    </tr>\n",
       "    <tr>\n",
       "      <th>375</th>\n",
       "      <td>-1201.600604</td>\n",
       "      <td>0</td>\n",
       "    </tr>\n",
       "  </tbody>\n",
       "</table>\n",
       "</div>"
      ],
      "text/plain": [
       "     ClaimAmount  ClaimInd\n",
       "82    -74.206042         0\n",
       "175 -1222.585196         0\n",
       "177  -316.288822         0\n",
       "363  -666.758610         0\n",
       "375 -1201.600604         0"
      ]
     },
     "execution_count": 3,
     "metadata": {},
     "output_type": "execute_result"
    }
   ],
   "source": [
    "NegClaimAmount = df.loc[df.ClaimAmount < 0, ['ClaimAmount','ClaimInd']]\n",
    "print('Unique values of ClaimInd:', NegClaimAmount.ClaimInd.unique())\n",
    "NegClaimAmount.head()"
   ]
  },
  {
   "cell_type": "code",
   "execution_count": 4,
   "metadata": {
    "colab": {},
    "colab_type": "code",
    "id": "R7laRWoCYF4V"
   },
   "outputs": [],
   "source": [
    "df.loc[df.ClaimAmount < 0, 'ClaimAmount'] = 0"
   ]
  },
  {
   "cell_type": "markdown",
   "metadata": {
    "colab_type": "text",
    "id": "6VuWyv7EGONj"
   },
   "source": [
    "Перекодируем переменные типа `object` с помощью числовых значений"
   ]
  },
  {
   "cell_type": "code",
   "execution_count": 5,
   "metadata": {
    "colab": {},
    "colab_type": "code",
    "id": "yivIrqGaGbSa"
   },
   "outputs": [],
   "source": [
    "def SeriesFactorizer(series):\n",
    "    series, unique = pd.factorize(series)\n",
    "    reference = {x: i for x, i in enumerate(unique)}\n",
    "    print(reference)\n",
    "    return series, reference"
   ]
  },
  {
   "cell_type": "code",
   "execution_count": 6,
   "metadata": {
    "colab": {
     "base_uri": "https://localhost:8080/",
     "height": 34
    },
    "colab_type": "code",
    "id": "G3SgrIBXGe3J",
    "outputId": "2e32c5c3-315e-4a45-d02f-97d5b8f495e8"
   },
   "outputs": [
    {
     "name": "stdout",
     "output_type": "stream",
     "text": [
      "{0: 'Male', 1: 'Female'}\n"
     ]
    }
   ],
   "source": [
    "df.Gender, GenderRef = SeriesFactorizer(df.Gender)"
   ]
  },
  {
   "cell_type": "code",
   "execution_count": 7,
   "metadata": {
    "colab": {
     "base_uri": "https://localhost:8080/",
     "height": 34
    },
    "colab_type": "code",
    "id": "HD6_Ie-2GggO",
    "outputId": "6d7743ac-c381-478c-9b0f-d94205b3f80d"
   },
   "outputs": [
    {
     "name": "stdout",
     "output_type": "stream",
     "text": [
      "{0: 'Other', 1: 'Alone'}\n"
     ]
    }
   ],
   "source": [
    "df.MariStat, MariStatRef = SeriesFactorizer(df.MariStat)"
   ]
  },
  {
   "cell_type": "markdown",
   "metadata": {
    "colab_type": "text",
    "id": "ZdTe9JpiGvt9"
   },
   "source": [
    "Для переменных, содержащих более 2 значений, различия между которыми не могут упорядочены, используем фиктивные переменные (one-hot encoding).\n",
    "\n",
    "**NB**: В H2O не рекомендуется использовать one-hot encoding, поскольку данный фреймворк корректно работает с категориальными признаками, тогда как применение one-hot encoding приводит к неэффективности. Тем не менее, используем здесь фиктивные переменные, чтобы в дальнейшем сохранить возможность сравнения результатов построенных моделей."
   ]
  },
  {
   "cell_type": "code",
   "execution_count": 8,
   "metadata": {
    "colab": {
     "base_uri": "https://localhost:8080/",
     "height": 34
    },
    "colab_type": "code",
    "id": "VrN99Iv8Ht-G",
    "outputId": "c4067588-1472-471d-b0ab-5805ab0eb8e7"
   },
   "outputs": [
    {
     "data": {
      "text/plain": [
       "['Professional', 'Private+trip to office', 'Private', 'Professional run']"
      ]
     },
     "execution_count": 8,
     "metadata": {},
     "output_type": "execute_result"
    }
   ],
   "source": [
    "list(df.VehUsage.unique())"
   ]
  },
  {
   "cell_type": "code",
   "execution_count": 9,
   "metadata": {
    "colab": {
     "base_uri": "https://localhost:8080/",
     "height": 203
    },
    "colab_type": "code",
    "id": "WXfZa7lUH0Jf",
    "outputId": "9c4c787a-f4ad-47f8-c3e5-5331719d0d7e"
   },
   "outputs": [
    {
     "data": {
      "text/html": [
       "<div>\n",
       "<style scoped>\n",
       "    .dataframe tbody tr th:only-of-type {\n",
       "        vertical-align: middle;\n",
       "    }\n",
       "\n",
       "    .dataframe tbody tr th {\n",
       "        vertical-align: top;\n",
       "    }\n",
       "\n",
       "    .dataframe thead th {\n",
       "        text-align: right;\n",
       "    }\n",
       "</style>\n",
       "<table border=\"1\" class=\"dataframe\">\n",
       "  <thead>\n",
       "    <tr style=\"text-align: right;\">\n",
       "      <th></th>\n",
       "      <th>VehUsg_Private</th>\n",
       "      <th>VehUsg_Private+trip to office</th>\n",
       "      <th>VehUsg_Professional</th>\n",
       "      <th>VehUsg_Professional run</th>\n",
       "    </tr>\n",
       "  </thead>\n",
       "  <tbody>\n",
       "    <tr>\n",
       "      <th>0</th>\n",
       "      <td>0</td>\n",
       "      <td>0</td>\n",
       "      <td>1</td>\n",
       "      <td>0</td>\n",
       "    </tr>\n",
       "    <tr>\n",
       "      <th>1</th>\n",
       "      <td>0</td>\n",
       "      <td>0</td>\n",
       "      <td>1</td>\n",
       "      <td>0</td>\n",
       "    </tr>\n",
       "    <tr>\n",
       "      <th>2</th>\n",
       "      <td>0</td>\n",
       "      <td>1</td>\n",
       "      <td>0</td>\n",
       "      <td>0</td>\n",
       "    </tr>\n",
       "    <tr>\n",
       "      <th>3</th>\n",
       "      <td>0</td>\n",
       "      <td>1</td>\n",
       "      <td>0</td>\n",
       "      <td>0</td>\n",
       "    </tr>\n",
       "    <tr>\n",
       "      <th>4</th>\n",
       "      <td>1</td>\n",
       "      <td>0</td>\n",
       "      <td>0</td>\n",
       "      <td>0</td>\n",
       "    </tr>\n",
       "  </tbody>\n",
       "</table>\n",
       "</div>"
      ],
      "text/plain": [
       "   VehUsg_Private  VehUsg_Private+trip to office  VehUsg_Professional  \\\n",
       "0               0                              0                    1   \n",
       "1               0                              0                    1   \n",
       "2               0                              1                    0   \n",
       "3               0                              1                    0   \n",
       "4               1                              0                    0   \n",
       "\n",
       "   VehUsg_Professional run  \n",
       "0                        0  \n",
       "1                        0  \n",
       "2                        0  \n",
       "3                        0  \n",
       "4                        0  "
      ]
     },
     "execution_count": 9,
     "metadata": {},
     "output_type": "execute_result"
    }
   ],
   "source": [
    "VU_dummies = pd.get_dummies(df.VehUsage, prefix='VehUsg', drop_first=False)\n",
    "VU_dummies.head()"
   ]
  },
  {
   "cell_type": "markdown",
   "metadata": {
    "colab_type": "text",
    "id": "vSlx8FxWH9P2"
   },
   "source": [
    "Фактор \"SocioCateg\" содержит информацию о социальной категории в виде кодов классификации CSP. Агрегируем имеющиеся коды до 1 знака, а затем закодируем их с помощью one-hot encoding.\n",
    "\n",
    "[Wiki](https://fr.wikipedia.org/wiki/Professions_et_cat%C3%A9gories_socioprofessionnelles_en_France#Cr%C3%A9ation_de_la_nomenclature_des_PCS)\n",
    "\n",
    "[Более подробный классификатор](https://www.ast74.fr/upload/administratif/liste-des-codes-csp-copie.pdf)"
   ]
  },
  {
   "cell_type": "code",
   "execution_count": 10,
   "metadata": {
    "colab": {
     "base_uri": "https://localhost:8080/",
     "height": 137
    },
    "colab_type": "code",
    "id": "o-JmQOrFLjt1",
    "outputId": "f32c407c-db28-4708-d139-1965e572338f",
    "scrolled": true
   },
   "outputs": [
    {
     "data": {
      "text/plain": [
       "array(['CSP50', 'CSP55', 'CSP60', 'CSP48', 'CSP6', 'CSP66', 'CSP1',\n",
       "       'CSP46', 'CSP21', 'CSP47', 'CSP42', 'CSP37', 'CSP22', 'CSP3',\n",
       "       'CSP49', 'CSP20', 'CSP2', 'CSP40', 'CSP7', 'CSP26', 'CSP65',\n",
       "       'CSP41', 'CSP17', 'CSP57', 'CSP56', 'CSP38', 'CSP51', 'CSP59',\n",
       "       'CSP30', 'CSP44', 'CSP61', 'CSP63', 'CSP45', 'CSP16', 'CSP43',\n",
       "       'CSP39', 'CSP5', 'CSP32', 'CSP35', 'CSP73', 'CSP62', 'CSP52',\n",
       "       'CSP27', 'CSP24', 'CSP19', 'CSP70'], dtype=object)"
      ]
     },
     "execution_count": 10,
     "metadata": {},
     "output_type": "execute_result"
    }
   ],
   "source": [
    "df['SocioCateg'].unique()"
   ]
  },
  {
   "cell_type": "code",
   "execution_count": 11,
   "metadata": {
    "colab": {},
    "colab_type": "code",
    "id": "6knnpiia1a-D"
   },
   "outputs": [],
   "source": [
    "df['SocioCateg'] = df.SocioCateg.str.slice(0,4)"
   ]
  },
  {
   "cell_type": "code",
   "execution_count": 12,
   "metadata": {
    "colab": {
     "base_uri": "https://localhost:8080/",
     "height": 264
    },
    "colab_type": "code",
    "id": "Xa8XgQB306yD",
    "outputId": "961980ab-66d8-4516-8879-faa8a0acae2b"
   },
   "outputs": [
    {
     "data": {
      "text/html": [
       "<div>\n",
       "<style scoped>\n",
       "    .dataframe tbody tr th:only-of-type {\n",
       "        vertical-align: middle;\n",
       "    }\n",
       "\n",
       "    .dataframe tbody tr th {\n",
       "        vertical-align: top;\n",
       "    }\n",
       "\n",
       "    .dataframe thead th {\n",
       "        text-align: right;\n",
       "    }\n",
       "</style>\n",
       "<table border=\"1\" class=\"dataframe\">\n",
       "  <thead>\n",
       "    <tr style=\"text-align: right;\">\n",
       "      <th></th>\n",
       "      <th>Frequency</th>\n",
       "    </tr>\n",
       "  </thead>\n",
       "  <tbody>\n",
       "    <tr>\n",
       "      <th>CSP7</th>\n",
       "      <td>14</td>\n",
       "    </tr>\n",
       "    <tr>\n",
       "      <th>CSP3</th>\n",
       "      <td>1210</td>\n",
       "    </tr>\n",
       "    <tr>\n",
       "      <th>CSP1</th>\n",
       "      <td>2740</td>\n",
       "    </tr>\n",
       "    <tr>\n",
       "      <th>CSP2</th>\n",
       "      <td>3254</td>\n",
       "    </tr>\n",
       "    <tr>\n",
       "      <th>CSP4</th>\n",
       "      <td>7648</td>\n",
       "    </tr>\n",
       "    <tr>\n",
       "      <th>CSP6</th>\n",
       "      <td>24833</td>\n",
       "    </tr>\n",
       "    <tr>\n",
       "      <th>CSP5</th>\n",
       "      <td>75456</td>\n",
       "    </tr>\n",
       "  </tbody>\n",
       "</table>\n",
       "</div>"
      ],
      "text/plain": [
       "      Frequency\n",
       "CSP7         14\n",
       "CSP3       1210\n",
       "CSP1       2740\n",
       "CSP2       3254\n",
       "CSP4       7648\n",
       "CSP6      24833\n",
       "CSP5      75456"
      ]
     },
     "execution_count": 12,
     "metadata": {},
     "output_type": "execute_result"
    }
   ],
   "source": [
    "pd.DataFrame(df.SocioCateg.value_counts().sort_values()).rename({'SocioCateg': 'Frequency'}, axis=1)"
   ]
  },
  {
   "cell_type": "code",
   "execution_count": 13,
   "metadata": {
    "colab": {},
    "colab_type": "code",
    "id": "zPfpFjNiKHtj"
   },
   "outputs": [],
   "source": [
    "df = pd.get_dummies(df, columns=['VehUsage','SocioCateg'])"
   ]
  },
  {
   "cell_type": "markdown",
   "metadata": {
    "colab_type": "text",
    "id": "xuMe7c-wKT3H"
   },
   "source": [
    "Теперь, когда большинство переменных типа `object` обработаны, исключим их из набора данных за ненадобностью."
   ]
  },
  {
   "cell_type": "code",
   "execution_count": 14,
   "metadata": {
    "colab": {},
    "colab_type": "code",
    "id": "HBbmRHUFKRql"
   },
   "outputs": [],
   "source": [
    "df = df.select_dtypes(exclude=['object'])"
   ]
  },
  {
   "cell_type": "markdown",
   "metadata": {
    "colab_type": "text",
    "id": "SYrDMnrEAFwG"
   },
   "source": [
    "Также создадим такую переменную, как квадрат возраста."
   ]
  },
  {
   "cell_type": "code",
   "execution_count": 15,
   "metadata": {
    "colab": {
     "base_uri": "https://localhost:8080/",
     "height": 240
    },
    "colab_type": "code",
    "id": "Sduuts5fAAmK",
    "outputId": "dcb6787b-0d5a-44bf-b3bb-0b4f7f6fe801"
   },
   "outputs": [
    {
     "data": {
      "text/html": [
       "<div>\n",
       "<style scoped>\n",
       "    .dataframe tbody tr th:only-of-type {\n",
       "        vertical-align: middle;\n",
       "    }\n",
       "\n",
       "    .dataframe tbody tr th {\n",
       "        vertical-align: top;\n",
       "    }\n",
       "\n",
       "    .dataframe thead th {\n",
       "        text-align: right;\n",
       "    }\n",
       "</style>\n",
       "<table border=\"1\" class=\"dataframe\">\n",
       "  <thead>\n",
       "    <tr style=\"text-align: right;\">\n",
       "      <th></th>\n",
       "      <th>Exposure</th>\n",
       "      <th>LicAge</th>\n",
       "      <th>Gender</th>\n",
       "      <th>MariStat</th>\n",
       "      <th>DrivAge</th>\n",
       "      <th>HasKmLimit</th>\n",
       "      <th>BonusMalus</th>\n",
       "      <th>ClaimAmount</th>\n",
       "      <th>ClaimInd</th>\n",
       "      <th>ClaimNbResp</th>\n",
       "      <th>...</th>\n",
       "      <th>VehUsage_Professional</th>\n",
       "      <th>VehUsage_Professional run</th>\n",
       "      <th>SocioCateg_CSP1</th>\n",
       "      <th>SocioCateg_CSP2</th>\n",
       "      <th>SocioCateg_CSP3</th>\n",
       "      <th>SocioCateg_CSP4</th>\n",
       "      <th>SocioCateg_CSP5</th>\n",
       "      <th>SocioCateg_CSP6</th>\n",
       "      <th>SocioCateg_CSP7</th>\n",
       "      <th>DrivAgeSq</th>\n",
       "    </tr>\n",
       "  </thead>\n",
       "  <tbody>\n",
       "    <tr>\n",
       "      <th>0</th>\n",
       "      <td>0.083</td>\n",
       "      <td>332</td>\n",
       "      <td>0</td>\n",
       "      <td>0</td>\n",
       "      <td>46</td>\n",
       "      <td>0</td>\n",
       "      <td>50</td>\n",
       "      <td>0.0</td>\n",
       "      <td>0</td>\n",
       "      <td>0.0</td>\n",
       "      <td>...</td>\n",
       "      <td>1</td>\n",
       "      <td>0</td>\n",
       "      <td>0</td>\n",
       "      <td>0</td>\n",
       "      <td>0</td>\n",
       "      <td>0</td>\n",
       "      <td>1</td>\n",
       "      <td>0</td>\n",
       "      <td>0</td>\n",
       "      <td>2116</td>\n",
       "    </tr>\n",
       "    <tr>\n",
       "      <th>1</th>\n",
       "      <td>0.916</td>\n",
       "      <td>333</td>\n",
       "      <td>0</td>\n",
       "      <td>0</td>\n",
       "      <td>46</td>\n",
       "      <td>0</td>\n",
       "      <td>50</td>\n",
       "      <td>0.0</td>\n",
       "      <td>0</td>\n",
       "      <td>0.0</td>\n",
       "      <td>...</td>\n",
       "      <td>1</td>\n",
       "      <td>0</td>\n",
       "      <td>0</td>\n",
       "      <td>0</td>\n",
       "      <td>0</td>\n",
       "      <td>0</td>\n",
       "      <td>1</td>\n",
       "      <td>0</td>\n",
       "      <td>0</td>\n",
       "      <td>2116</td>\n",
       "    </tr>\n",
       "    <tr>\n",
       "      <th>2</th>\n",
       "      <td>0.550</td>\n",
       "      <td>173</td>\n",
       "      <td>0</td>\n",
       "      <td>0</td>\n",
       "      <td>32</td>\n",
       "      <td>0</td>\n",
       "      <td>68</td>\n",
       "      <td>0.0</td>\n",
       "      <td>0</td>\n",
       "      <td>0.0</td>\n",
       "      <td>...</td>\n",
       "      <td>0</td>\n",
       "      <td>0</td>\n",
       "      <td>0</td>\n",
       "      <td>0</td>\n",
       "      <td>0</td>\n",
       "      <td>0</td>\n",
       "      <td>1</td>\n",
       "      <td>0</td>\n",
       "      <td>0</td>\n",
       "      <td>1024</td>\n",
       "    </tr>\n",
       "    <tr>\n",
       "      <th>3</th>\n",
       "      <td>0.089</td>\n",
       "      <td>364</td>\n",
       "      <td>1</td>\n",
       "      <td>0</td>\n",
       "      <td>52</td>\n",
       "      <td>0</td>\n",
       "      <td>50</td>\n",
       "      <td>0.0</td>\n",
       "      <td>0</td>\n",
       "      <td>0.0</td>\n",
       "      <td>...</td>\n",
       "      <td>0</td>\n",
       "      <td>0</td>\n",
       "      <td>0</td>\n",
       "      <td>0</td>\n",
       "      <td>0</td>\n",
       "      <td>0</td>\n",
       "      <td>1</td>\n",
       "      <td>0</td>\n",
       "      <td>0</td>\n",
       "      <td>2704</td>\n",
       "    </tr>\n",
       "    <tr>\n",
       "      <th>4</th>\n",
       "      <td>0.233</td>\n",
       "      <td>426</td>\n",
       "      <td>0</td>\n",
       "      <td>0</td>\n",
       "      <td>57</td>\n",
       "      <td>0</td>\n",
       "      <td>50</td>\n",
       "      <td>0.0</td>\n",
       "      <td>0</td>\n",
       "      <td>0.0</td>\n",
       "      <td>...</td>\n",
       "      <td>0</td>\n",
       "      <td>0</td>\n",
       "      <td>0</td>\n",
       "      <td>0</td>\n",
       "      <td>0</td>\n",
       "      <td>0</td>\n",
       "      <td>0</td>\n",
       "      <td>1</td>\n",
       "      <td>0</td>\n",
       "      <td>3249</td>\n",
       "    </tr>\n",
       "  </tbody>\n",
       "</table>\n",
       "<p>5 rows × 28 columns</p>\n",
       "</div>"
      ],
      "text/plain": [
       "   Exposure  LicAge  Gender  MariStat  DrivAge  HasKmLimit  BonusMalus  \\\n",
       "0     0.083     332       0         0       46           0          50   \n",
       "1     0.916     333       0         0       46           0          50   \n",
       "2     0.550     173       0         0       32           0          68   \n",
       "3     0.089     364       1         0       52           0          50   \n",
       "4     0.233     426       0         0       57           0          50   \n",
       "\n",
       "   ClaimAmount  ClaimInd  ClaimNbResp  ...  VehUsage_Professional  \\\n",
       "0          0.0         0          0.0  ...                      1   \n",
       "1          0.0         0          0.0  ...                      1   \n",
       "2          0.0         0          0.0  ...                      0   \n",
       "3          0.0         0          0.0  ...                      0   \n",
       "4          0.0         0          0.0  ...                      0   \n",
       "\n",
       "   VehUsage_Professional run  SocioCateg_CSP1  SocioCateg_CSP2  \\\n",
       "0                          0                0                0   \n",
       "1                          0                0                0   \n",
       "2                          0                0                0   \n",
       "3                          0                0                0   \n",
       "4                          0                0                0   \n",
       "\n",
       "   SocioCateg_CSP3  SocioCateg_CSP4  SocioCateg_CSP5  SocioCateg_CSP6  \\\n",
       "0                0                0                1                0   \n",
       "1                0                0                1                0   \n",
       "2                0                0                1                0   \n",
       "3                0                0                1                0   \n",
       "4                0                0                0                1   \n",
       "\n",
       "   SocioCateg_CSP7  DrivAgeSq  \n",
       "0                0       2116  \n",
       "1                0       2116  \n",
       "2                0       1024  \n",
       "3                0       2704  \n",
       "4                0       3249  \n",
       "\n",
       "[5 rows x 28 columns]"
      ]
     },
     "execution_count": 15,
     "metadata": {},
     "output_type": "execute_result"
    }
   ],
   "source": [
    "df['DrivAgeSq'] = df.DrivAge.apply(lambda x: x**2)\n",
    "df.head()"
   ]
  },
  {
   "cell_type": "markdown",
   "metadata": {
    "colab_type": "text",
    "id": "XE_3dSsW3J3X"
   },
   "source": [
    "Для моделирования частоты убытков сгенерируем показатель как сумму индикатора того, что убыток произошел (\"ClaimInd\") и количества заявленных убытков по различным видам ущерба за 4 предшествующих года (\"ClaimNbResp\", \"ClaimNbNonResp\", \"ClaimNbParking\", \"ClaimNbFireTheft\", \"ClaimNbWindscreen\").\n",
    "\n",
    "В случаях, если соответствующая величина убытка равняется нулю, сгенерированную частоту также обнулим."
   ]
  },
  {
   "cell_type": "code",
   "execution_count": 16,
   "metadata": {
    "colab": {},
    "colab_type": "code",
    "id": "R6rz5Oko3rbr"
   },
   "outputs": [],
   "source": [
    "df['ClaimsCount'] = df.ClaimInd + df.ClaimNbResp + df.ClaimNbNonResp + df.ClaimNbParking + df.ClaimNbFireTheft + df.ClaimNbWindscreen\n",
    "df.loc[df.ClaimAmount == 0, 'ClaimsCount'] = 0\n",
    "df.drop([\"ClaimNbResp\", \"ClaimNbNonResp\", \"ClaimNbParking\", \"ClaimNbFireTheft\", \"ClaimNbWindscreen\"], axis=1, inplace=True)"
   ]
  },
  {
   "cell_type": "code",
   "execution_count": 17,
   "metadata": {
    "colab": {
     "base_uri": "https://localhost:8080/",
     "height": 388
    },
    "colab_type": "code",
    "id": "cJ5_aqnx4FcZ",
    "outputId": "732427af-ebf3-4ce8-afd8-5bc33198fa5b"
   },
   "outputs": [
    {
     "data": {
      "text/html": [
       "<div>\n",
       "<style scoped>\n",
       "    .dataframe tbody tr th:only-of-type {\n",
       "        vertical-align: middle;\n",
       "    }\n",
       "\n",
       "    .dataframe tbody tr th {\n",
       "        vertical-align: top;\n",
       "    }\n",
       "\n",
       "    .dataframe thead th {\n",
       "        text-align: right;\n",
       "    }\n",
       "</style>\n",
       "<table border=\"1\" class=\"dataframe\">\n",
       "  <thead>\n",
       "    <tr style=\"text-align: right;\">\n",
       "      <th></th>\n",
       "      <th>Policies</th>\n",
       "    </tr>\n",
       "  </thead>\n",
       "  <tbody>\n",
       "    <tr>\n",
       "      <th>0.0</th>\n",
       "      <td>104286</td>\n",
       "    </tr>\n",
       "    <tr>\n",
       "      <th>2.0</th>\n",
       "      <td>3529</td>\n",
       "    </tr>\n",
       "    <tr>\n",
       "      <th>1.0</th>\n",
       "      <td>3339</td>\n",
       "    </tr>\n",
       "    <tr>\n",
       "      <th>3.0</th>\n",
       "      <td>2310</td>\n",
       "    </tr>\n",
       "    <tr>\n",
       "      <th>4.0</th>\n",
       "      <td>1101</td>\n",
       "    </tr>\n",
       "    <tr>\n",
       "      <th>5.0</th>\n",
       "      <td>428</td>\n",
       "    </tr>\n",
       "    <tr>\n",
       "      <th>6.0</th>\n",
       "      <td>127</td>\n",
       "    </tr>\n",
       "    <tr>\n",
       "      <th>7.0</th>\n",
       "      <td>26</td>\n",
       "    </tr>\n",
       "    <tr>\n",
       "      <th>8.0</th>\n",
       "      <td>6</td>\n",
       "    </tr>\n",
       "    <tr>\n",
       "      <th>9.0</th>\n",
       "      <td>2</td>\n",
       "    </tr>\n",
       "    <tr>\n",
       "      <th>11.0</th>\n",
       "      <td>1</td>\n",
       "    </tr>\n",
       "  </tbody>\n",
       "</table>\n",
       "</div>"
      ],
      "text/plain": [
       "      Policies\n",
       "0.0     104286\n",
       "2.0       3529\n",
       "1.0       3339\n",
       "3.0       2310\n",
       "4.0       1101\n",
       "5.0        428\n",
       "6.0        127\n",
       "7.0         26\n",
       "8.0          6\n",
       "9.0          2\n",
       "11.0         1"
      ]
     },
     "execution_count": 17,
     "metadata": {},
     "output_type": "execute_result"
    }
   ],
   "source": [
    "pd.DataFrame(df.ClaimsCount.value_counts()).rename({'ClaimsCount': 'Policies'}, axis=1)"
   ]
  },
  {
   "cell_type": "markdown",
   "metadata": {
    "colab_type": "text",
    "id": "iCZAeoll6xac"
   },
   "source": [
    "Для моделирования среднего убытка можем рассчитать его как отношение величины убытков к их частоте."
   ]
  },
  {
   "cell_type": "code",
   "execution_count": 18,
   "metadata": {
    "colab": {},
    "colab_type": "code",
    "id": "y9AKwYtU6x1i"
   },
   "outputs": [],
   "source": [
    "dfAC = df[df.ClaimsCount > 0].copy()\n",
    "dfAC['AvgClaim'] = dfAC.ClaimAmount/dfAC.ClaimsCount"
   ]
  },
  {
   "cell_type": "code",
   "execution_count": 19,
   "metadata": {},
   "outputs": [
    {
     "data": {
      "text/html": [
       "<div>\n",
       "<style scoped>\n",
       "    .dataframe tbody tr th:only-of-type {\n",
       "        vertical-align: middle;\n",
       "    }\n",
       "\n",
       "    .dataframe tbody tr th {\n",
       "        vertical-align: top;\n",
       "    }\n",
       "\n",
       "    .dataframe thead th {\n",
       "        text-align: right;\n",
       "    }\n",
       "</style>\n",
       "<table border=\"1\" class=\"dataframe\">\n",
       "  <thead>\n",
       "    <tr style=\"text-align: right;\">\n",
       "      <th></th>\n",
       "      <th>Exposure</th>\n",
       "      <th>LicAge</th>\n",
       "      <th>Gender</th>\n",
       "      <th>MariStat</th>\n",
       "      <th>DrivAge</th>\n",
       "      <th>HasKmLimit</th>\n",
       "      <th>BonusMalus</th>\n",
       "      <th>ClaimAmount</th>\n",
       "      <th>ClaimInd</th>\n",
       "      <th>OutUseNb</th>\n",
       "      <th>...</th>\n",
       "      <th>SocioCateg_CSP1</th>\n",
       "      <th>SocioCateg_CSP2</th>\n",
       "      <th>SocioCateg_CSP3</th>\n",
       "      <th>SocioCateg_CSP4</th>\n",
       "      <th>SocioCateg_CSP5</th>\n",
       "      <th>SocioCateg_CSP6</th>\n",
       "      <th>SocioCateg_CSP7</th>\n",
       "      <th>DrivAgeSq</th>\n",
       "      <th>ClaimsCount</th>\n",
       "      <th>AvgClaim</th>\n",
       "    </tr>\n",
       "  </thead>\n",
       "  <tbody>\n",
       "    <tr>\n",
       "      <th>33</th>\n",
       "      <td>0.617</td>\n",
       "      <td>602</td>\n",
       "      <td>0</td>\n",
       "      <td>0</td>\n",
       "      <td>68</td>\n",
       "      <td>0</td>\n",
       "      <td>50</td>\n",
       "      <td>5377.204532</td>\n",
       "      <td>1</td>\n",
       "      <td>0.0</td>\n",
       "      <td>...</td>\n",
       "      <td>0</td>\n",
       "      <td>0</td>\n",
       "      <td>0</td>\n",
       "      <td>0</td>\n",
       "      <td>0</td>\n",
       "      <td>1</td>\n",
       "      <td>0</td>\n",
       "      <td>4624</td>\n",
       "      <td>4.0</td>\n",
       "      <td>1344.301133</td>\n",
       "    </tr>\n",
       "    <tr>\n",
       "      <th>34</th>\n",
       "      <td>0.761</td>\n",
       "      <td>357</td>\n",
       "      <td>1</td>\n",
       "      <td>1</td>\n",
       "      <td>47</td>\n",
       "      <td>0</td>\n",
       "      <td>50</td>\n",
       "      <td>2017.843505</td>\n",
       "      <td>1</td>\n",
       "      <td>0.0</td>\n",
       "      <td>...</td>\n",
       "      <td>0</td>\n",
       "      <td>0</td>\n",
       "      <td>0</td>\n",
       "      <td>0</td>\n",
       "      <td>1</td>\n",
       "      <td>0</td>\n",
       "      <td>0</td>\n",
       "      <td>2209</td>\n",
       "      <td>2.0</td>\n",
       "      <td>1008.921752</td>\n",
       "    </tr>\n",
       "    <tr>\n",
       "      <th>53</th>\n",
       "      <td>0.023</td>\n",
       "      <td>271</td>\n",
       "      <td>0</td>\n",
       "      <td>0</td>\n",
       "      <td>49</td>\n",
       "      <td>0</td>\n",
       "      <td>50</td>\n",
       "      <td>356.773414</td>\n",
       "      <td>1</td>\n",
       "      <td>2.0</td>\n",
       "      <td>...</td>\n",
       "      <td>0</td>\n",
       "      <td>0</td>\n",
       "      <td>0</td>\n",
       "      <td>0</td>\n",
       "      <td>1</td>\n",
       "      <td>0</td>\n",
       "      <td>0</td>\n",
       "      <td>2401</td>\n",
       "      <td>2.0</td>\n",
       "      <td>178.386707</td>\n",
       "    </tr>\n",
       "    <tr>\n",
       "      <th>65</th>\n",
       "      <td>0.833</td>\n",
       "      <td>539</td>\n",
       "      <td>0</td>\n",
       "      <td>0</td>\n",
       "      <td>75</td>\n",
       "      <td>0</td>\n",
       "      <td>50</td>\n",
       "      <td>645.125982</td>\n",
       "      <td>1</td>\n",
       "      <td>0.0</td>\n",
       "      <td>...</td>\n",
       "      <td>0</td>\n",
       "      <td>0</td>\n",
       "      <td>0</td>\n",
       "      <td>0</td>\n",
       "      <td>0</td>\n",
       "      <td>1</td>\n",
       "      <td>0</td>\n",
       "      <td>5625</td>\n",
       "      <td>1.0</td>\n",
       "      <td>645.125982</td>\n",
       "    </tr>\n",
       "    <tr>\n",
       "      <th>66</th>\n",
       "      <td>0.957</td>\n",
       "      <td>302</td>\n",
       "      <td>1</td>\n",
       "      <td>0</td>\n",
       "      <td>49</td>\n",
       "      <td>0</td>\n",
       "      <td>54</td>\n",
       "      <td>1200.422356</td>\n",
       "      <td>1</td>\n",
       "      <td>0.0</td>\n",
       "      <td>...</td>\n",
       "      <td>0</td>\n",
       "      <td>0</td>\n",
       "      <td>0</td>\n",
       "      <td>0</td>\n",
       "      <td>1</td>\n",
       "      <td>0</td>\n",
       "      <td>0</td>\n",
       "      <td>2401</td>\n",
       "      <td>2.0</td>\n",
       "      <td>600.211178</td>\n",
       "    </tr>\n",
       "  </tbody>\n",
       "</table>\n",
       "<p>5 rows × 25 columns</p>\n",
       "</div>"
      ],
      "text/plain": [
       "    Exposure  LicAge  Gender  MariStat  DrivAge  HasKmLimit  BonusMalus  \\\n",
       "33     0.617     602       0         0       68           0          50   \n",
       "34     0.761     357       1         1       47           0          50   \n",
       "53     0.023     271       0         0       49           0          50   \n",
       "65     0.833     539       0         0       75           0          50   \n",
       "66     0.957     302       1         0       49           0          54   \n",
       "\n",
       "    ClaimAmount  ClaimInd  OutUseNb  ...  SocioCateg_CSP1  SocioCateg_CSP2  \\\n",
       "33  5377.204532         1       0.0  ...                0                0   \n",
       "34  2017.843505         1       0.0  ...                0                0   \n",
       "53   356.773414         1       2.0  ...                0                0   \n",
       "65   645.125982         1       0.0  ...                0                0   \n",
       "66  1200.422356         1       0.0  ...                0                0   \n",
       "\n",
       "    SocioCateg_CSP3  SocioCateg_CSP4  SocioCateg_CSP5  SocioCateg_CSP6  \\\n",
       "33                0                0                0                1   \n",
       "34                0                0                1                0   \n",
       "53                0                0                1                0   \n",
       "65                0                0                0                1   \n",
       "66                0                0                1                0   \n",
       "\n",
       "    SocioCateg_CSP7  DrivAgeSq  ClaimsCount     AvgClaim  \n",
       "33                0       4624          4.0  1344.301133  \n",
       "34                0       2209          2.0  1008.921752  \n",
       "53                0       2401          2.0   178.386707  \n",
       "65                0       5625          1.0   645.125982  \n",
       "66                0       2401          2.0   600.211178  \n",
       "\n",
       "[5 rows x 25 columns]"
      ]
     },
     "execution_count": 19,
     "metadata": {},
     "output_type": "execute_result"
    }
   ],
   "source": [
    "dfAC.head()"
   ]
  },
  {
   "cell_type": "markdown",
   "metadata": {
    "colab_type": "text",
    "id": "VpYxkXdrLD01"
   },
   "source": [
    "## Разделение набора данных на обучающую, валидационную и тестовую выборки"
   ]
  },
  {
   "cell_type": "code",
   "execution_count": 20,
   "metadata": {
    "colab": {},
    "colab_type": "code",
    "id": "piO1n8o2LFAJ"
   },
   "outputs": [],
   "source": [
    "from sklearn.model_selection import train_test_split"
   ]
  },
  {
   "cell_type": "code",
   "execution_count": 21,
   "metadata": {
    "colab": {},
    "colab_type": "code",
    "id": "dGvhYDXdLFoR"
   },
   "outputs": [],
   "source": [
    "# Разбиение датасета для частоты на train/val/test\n",
    "\n",
    "x_train_c, x_test_c, y_train_c, y_test_c = train_test_split(df.drop(['ClaimInd', 'ClaimAmount', 'ClaimsCount'], axis=1), df.ClaimsCount, test_size=0.3, random_state=1)\n",
    "x_valid_c, x_test_c, y_valid_c, y_test_c = train_test_split(x_test_c, y_test_c, test_size=0.5, random_state=1)"
   ]
  },
  {
   "cell_type": "code",
   "execution_count": 22,
   "metadata": {
    "colab": {},
    "colab_type": "code",
    "id": "XBBJ06RA96Xk"
   },
   "outputs": [],
   "source": [
    "# Разбиение датасета для среднего убытка на train/val/test \n",
    "\n",
    "x_train_ac, x_test_ac, y_train_ac, y_test_ac = train_test_split(dfAC.drop(['ClaimInd', 'ClaimAmount', 'ClaimsCount', 'AvgClaim'], axis=1), dfAC.AvgClaim, test_size=0.3, random_state=1)\n",
    "x_valid_ac, x_test_ac, y_valid_ac, y_test_ac = train_test_split(x_test_ac, y_test_ac, test_size=0.5, random_state=1)"
   ]
  },
  {
   "cell_type": "markdown",
   "metadata": {
    "colab_type": "text",
    "id": "MVH6ncAFgWXF"
   },
   "source": [
    "## Обобщенные линейные модели (Generalized Linear Models, GLM)"
   ]
  },
  {
   "cell_type": "markdown",
   "metadata": {
    "colab_type": "text",
    "id": "Irg71_9zMJxT"
   },
   "source": [
    "### Теория"
   ]
  },
  {
   "cell_type": "markdown",
   "metadata": {
    "colab_type": "text",
    "id": "R5SOE8shgaDi"
   },
   "source": [
    "Пусть $y$ – целевая переменная, $X$ – матрица объясняющих переменных, $\\beta$ – вектор параметров модели.\n",
    "\n",
    "Матрица $X$ составлена из всех векторов наблюдений $x_i$, каждый из которых представляет собой объясняющую переменную.\n",
    "\n",
    "Основные компоненты обобщенной линейной модели:\n",
    "* Систематическая компонента $\\eta$:\n",
    "    * $\\eta = X\\beta \\hspace{10pt}(=\\beta_0+\\beta_1x_1+\\beta_2x_2+\\dots+\\beta_nx_n)$.\n",
    "* Случайная компонента $y$:\n",
    "    * Элементы вектора $y$ – независимые одинаково распределенные случайные величины, имеющие функцию плотности распределения $f(y;\\theta,\\phi)$ из экспоненциального семейства.\n",
    "    * Распределения из экспоненциального семейства имеют параметры $\\theta$ (характеристика среднего) и $\\phi$ (характеристика дисперсии). В общем виде данные распределения могут быть определены:\n",
    "    $$f_i(y_i;\\theta_i,\\phi)=\\exp\\left\\lbrace \\frac{y_i\\theta_i-b(\\theta_i)}{a_i(\\phi)} + c(y_i, \\phi) \\right\\rbrace,$$\n",
    "    где $a_i(\\phi)$, $b(\\theta_i)$ и $c(y_i, \\phi)$ некоторые функции.\n",
    "    * Для распределений из данного семейства дисперсия является функцией от среднего.\n",
    "    * Экспоненциальное семейство включает распределения нормальное, экспоненциальное, Пуассона, гамма, хи-квадрат, бета и другие.\n",
    "* Функция связи $g$:\n",
    "    * $\\mathbb{E}\\left[y\\right]=\\mu=g^{-1}\\left(\\eta\\right)$, $\\mu$ – математическое ожидание $y$;\n",
    "    * $g$ – монотонная дифференцируемая функция.\n",
    "\n",
    "\n"
   ]
  },
  {
   "cell_type": "markdown",
   "metadata": {
    "colab_type": "text",
    "id": "LoBqR6SkGDKm"
   },
   "source": [
    "#### GLM с распределением Пуассона"
   ]
  },
  {
   "cell_type": "markdown",
   "metadata": {
    "colab_type": "text",
    "id": "stmssdazGHpt"
   },
   "source": [
    "Регрессия Пуассона обычно используется в случаях, когда зависимая переменная представляет собой счетные значения и ошибки предполагаются распределенными в соответствии с распределением Пуассона. Зависимая переменная должна быть неотрицательной.\n",
    "\n",
    "Функции связи между таргетом и объясняющими переменными предполагается логарифмической:\n",
    "$$g(\\eta) = \\ln(\\eta) \\Rightarrow \\hat {y} = e^{x{^T}\\beta + {\\beta_{0}}}.$$\n",
    "\n",
    "Модель оценивается методом максимального правдоподобия, функция логарифма правдоподобия с учетом штрафа регуляризации эластичной сети имеет вид:\n",
    "$$\\max_{\\beta,\\beta_0} \\frac{1}{N} \\sum_{i=1}^{N} \\Big( y_i(x_{i}^{T}\\beta + \\beta_0) - e^{x{^T_i}\\beta + {\\beta_0}} \\Big)- \\lambda \\Big( \\alpha||\\beta||_1 + \\dfrac {1} {2}(1 - \\alpha)||\\beta||^2_2 \\Big),$$\n",
    "\n",
    "где \n",
    "* $\\lambda$ – параметр, отвечающий за силу регуляризации. $\\lambda\\in\\mathbb{R}^{+}$;\n",
    "* $\\alpha$ – параметр, отвечающий за распределение штрафов регуляризации между нормой 1 ($\\ell_1$) и нормой 2 ($\\ell_2$). $\\alpha\\in[0,1]$;\n",
    "* $||\\beta||{_1}$ – штраф регуляризации $\\ell_1$ (LASSO). $||\\beta||{_1} = \\sum{^p_{k=1}} |\\beta{_k}|$;\n",
    "* $||\\beta||{_2}$ – штраф регуляризации $\\ell_2$ (Ridge). $||\\beta||{_2} = \\sum{^p_{k=1}} \\beta{^2_k}$.\n",
    "\n",
    "Тогда соответствующая метрика _Deviance_ имеет вид:\n",
    "$$D = -2 \\sum_{i=1}^{N} \\big( y_i \\text{ln}(y_i / \\hat {y}_i) - (y_i - \\hat {y}_i) \\big).$$"
   ]
  },
  {
   "cell_type": "markdown",
   "metadata": {
    "colab_type": "text",
    "id": "6qEMtZhcy0nZ"
   },
   "source": [
    "##### Вывод функции правдоподобия для GLM с распределением Пуассона (без регуляризации)"
   ]
  },
  {
   "cell_type": "markdown",
   "metadata": {
    "colab_type": "text",
    "id": "ByGAuksEUt3c"
   },
   "source": [
    "**NB:** Ниже $\\lambda$ не имеет отношения к вышеупомянутому одноименному параметру регуляризации."
   ]
  },
  {
   "cell_type": "markdown",
   "metadata": {
    "colab_type": "text",
    "id": "YN6oPpI_3Tg-"
   },
   "source": [
    "Напомним, что функция вероятности для распределения Пуассона имеет вид:\n",
    "$$p(k;\\lambda) = \\frac{\\lambda^k e^{-\\lambda}}{k!}, \\hspace{10pt} \\lambda\\in\\mathbb{R}^{+}.$$\n",
    "Также, для распределения Пуассона справедливо, что:\n",
    "$$\\mathbb{E}\\left[k\\right] = Var(k) = \\lambda.$$\n",
    "Тогда, для оценивания коэффициентов нашей модели необходимо максимизировать правдоподобие (совместную условную вероятность при имеющихся данных), что данные имеют распределение Пуассона:\n",
    "$$p(y_1,\\dots,y_n|x_1,\\dots,x_n;\\beta_0,\\beta) = \\prod_{i=1}^{N}\\frac{e^{y_i(x_i{^T}\\beta + {\\beta_{0}})} e^{-e^{x_i{^T}\\beta + {\\beta_{0}}}}}{y_i!} = L(\\beta_0,\\beta|y_1,\\dots,y_n,x_1,\\dots,x_n).$$\n",
    "Для упрощения задачи оптимизации перейдем к логарифму правдоподобия:\n",
    "$$\\ell(\\beta_0,\\beta|y_1,\\dots,y_n,x_1,\\dots,x_n) = \\sum_{i=1}^{N}\\left(y_i(x_i{^T}\\beta + {\\beta_{0}}) -e^{x_i{^T}\\beta + {\\beta_{0}}}-\\ln(y_i!)\\right).$$\n",
    "Поскольку величина $\\ln(y_i!)$ не зависит от выбора параметров, можно упростить задачу:\n",
    "$$\\ell(\\beta_0,\\beta|y_1,\\dots,y_n,x_1,\\dots,x_n) = \\sum_{i=1}^{N}\\left(y_i(x_i{^T}\\beta + {\\beta_{0}}) -e^{x_i{^T}\\beta + {\\beta_{0}}}\\right).$$\n",
    "Далее численно решается задача оптимизации для определения параметров модели:\n",
    "$$\\frac{\\partial \\ell(\\beta_0,\\beta|y_1,\\dots,y_n,x_1,\\dots,x_n)}{\\partial \\beta_0} = 0,\\\\\\frac{\\partial \\ell(\\beta_0,\\beta|y_1,\\dots,y_n,x_1,\\dots,x_n)}{\\partial \\beta} = 0.$$\n",
    "Обычно минимизируется отрицательное правдоподобие, которое является выпуклой функцией."
   ]
  },
  {
   "cell_type": "markdown",
   "metadata": {
    "colab_type": "text",
    "id": "rXdxE61XFNXd"
   },
   "source": [
    "##### Вывод метрики Deviance для GLM с распределением Пуассона"
   ]
  },
  {
   "cell_type": "markdown",
   "metadata": {
    "colab_type": "text",
    "id": "zP2oklD3FVgC"
   },
   "source": [
    "Метрика Deviance представляет собой отношение правдоподобия между двумя моделями: рассматриваемой моделью и \"идеальной\" моделью, в которая бы идеально предсказывала бы зависимую переменную.\n",
    "$$Deviance = 2(\\ell_{ideal} - \\ell_{model})$$\n",
    "\n",
    "В качестве такой \"идеальной модели\" может использоваться сама зависимая переменная. Тогда, логарифм правдоподобия \"идеальной модели\" для GLM с распределением Пуассона имеет вид:\n",
    "$$\\ell_{ideal} = \\sum_{i=1}^{N}\\left(y_i \\ln(y_i) -y_i-\\ln(y_i!)\\right).$$\n",
    "\n",
    "Из приведенного выше вывода правдоподобия для рассматриваемой модели, мы можем записать, обозначив $\\hat{y}_i = e^{x{^T}\\beta + {\\beta_{0}}}$:\n",
    "$$\\ell_{model} = \\sum_{i=1}^{N}\\left(y_i \\ln(\\hat{y}_i) -\\hat{y}_i-\\ln(y_i!)\\right).$$\n",
    "\n",
    "Тогда получаем,\n",
    "$$Deviance = 2\\sum_{i=1}^{N}\\left(y_i \\ln(y_i) -y_i - y_i \\ln(\\hat{y}_i) +\\hat{y}_i\\right) = -2\\sum_{i=1}^{N}\\left(y_i \\ln(y_i/\\hat{y}_i) - (y_i -\\hat{y}_i)\\right).$$\n"
   ]
  },
  {
   "cell_type": "markdown",
   "metadata": {
    "colab_type": "text",
    "id": "vTWFrSADGE2v"
   },
   "source": [
    "#### GLM с гамма-распределением"
   ]
  },
  {
   "cell_type": "markdown",
   "metadata": {
    "colab_type": "text",
    "id": "zURS5rANGpQM"
   },
   "source": [
    "GLM с гамма-распределением используется для моделирования положительной непрерывной зависимой переменной, когда ее условная дисперсия увеличивается вместе со средним значением, но коэффициент вариации зависимой переменной предполагается постоянным.\n",
    "\n",
    "Обычно GLM с гамма-распределением используются с логарифмической или обратной функциями связи:\n",
    "$$g(\\eta) = \\ln(\\eta);\\hspace{20pt}g(\\eta) = \\frac{1}{\\eta}.$$\n",
    "\n",
    "Модель оценивается методом максимального правдоподобия, функция логарифма правдоподобия (для обратной функции связи) с учетом штрафа регуляризации эластичной сети имеет вид:\n",
    "$$\\max_{\\beta,\\beta_0} - \\frac{1}{N} \\sum_{i=1}^{N} \\frac{y_i}{x{^T_i}\\beta + \\beta_0} + \\text{ln} \\big( x{^T_i}\\beta + \\beta_0 \\big ) - \\lambda \\Big( \\alpha||\\beta||_1 + \\dfrac {1} {2}(1 - \\alpha)||\\beta||^2_2 \\Big),$$\n",
    "\n",
    "где \n",
    "* $\\lambda$ – параметр, отвечающий за силу регуляризации. $\\lambda\\in\\mathbb{R}^{+}$;\n",
    "* $\\alpha$ – параметр, отвечающий за распределение штрафов регуляризации между нормой 1 ($\\ell_1$) и нормой 2 ($\\ell_2$). $\\alpha\\in[0,1]$;\n",
    "* $||\\beta||{_1}$ – штраф регуляризации $\\ell_1$ (LASSO). $||\\beta||{_1} = \\sum{^p_{k=1}} |\\beta{_k}|$;\n",
    "* $||\\beta||{_2}$ – штраф регуляризации $\\ell_2$ (Ridge). $||\\beta||{_2} = \\sum{^p_{k=1}} \\beta{^2_k}$.\n",
    "\n",
    "Соответствующая метрика _Deviance_ имеет вид:\n",
    "$$D = 2 \\sum_{i=1}^{N} - \\text{ln} \\bigg (\\dfrac {y_i} {\\hat {y}_i} \\bigg) + \\dfrac {(y_i - \\hat{y}_i)} {\\hat {y}_i}.$$\n",
    "\n",
    "\n"
   ]
  },
  {
   "cell_type": "markdown",
   "metadata": {
    "colab_type": "text",
    "id": "g556ItOFqrlt"
   },
   "source": [
    "##### Вывод функции правдоподобия для GLM с Гамма-распределением и логарифмической функцией связи (без регуляризации)"
   ]
  },
  {
   "cell_type": "markdown",
   "metadata": {
    "colab_type": "text",
    "id": "sMwfkpunUSh3"
   },
   "source": [
    "**NB:** Ниже $\\alpha$ и $\\lambda$ не имеют отношения к вышеупомянутым одноименным параметрам регуляризации."
   ]
  },
  {
   "cell_type": "markdown",
   "metadata": {
    "colab_type": "text",
    "id": "U4_fS_r2qsSV"
   },
   "source": [
    "Напомним, что функция плотности вероятности для Гамма-распределения имеет вид:\n",
    "$$f(x;\\alpha,\\lambda) = \n",
    "\\begin{cases}\n",
    "\\frac{\\alpha^\\lambda}{\\Gamma(\\lambda)}x^{\\lambda-1}e^{-\\alpha x},&x \\ge 0\\\\\n",
    "0,& x <0\n",
    "\\end{cases},\\hspace{20pt} \\Gamma(x) = \\int_0^{\\infty}x^{\\lambda-1}e^{-x}dx.\n",
    "$$\n",
    "Также, для Гамма-распределения справедливо, что:\n",
    "$$ \\mathbb{E}[x] = \\frac{\\lambda}{\\alpha},\\hspace{15pt} Var(x) = \\frac{\\lambda}{\\alpha^2}.$$"
   ]
  },
  {
   "cell_type": "markdown",
   "metadata": {
    "colab_type": "text",
    "id": "ANqE1W2i9Oo0"
   },
   "source": [
    "Для оценивания GLM удобно параметризовать данное распределение иначе:\n",
    "$$ \\mathbb{E}[x] = \\frac{\\lambda}{\\alpha} = \\mu,\\hspace{15pt} Var(x) = \\frac{\\lambda}{\\alpha^2} = \\frac{\\mu^2}{\\lambda}.$$\n",
    "Тогда,\n",
    "$$f(x;\\mu,\\lambda) = \\frac{1}{\\Gamma(\\lambda)}\\alpha^\\lambda x^{\\lambda-1}e^{-\\alpha x} = \\frac{1}{\\Gamma(\\lambda)}\\left(\\frac{\\lambda}{\\mu}\\right)^\\lambda x^{\\lambda-1}e^{-\\left(\\frac{\\lambda}{\\mu}\\right)x} = \\frac{1}{x\\cdot\\Gamma(\\lambda)}\\left(\\frac{\\lambda x}{\\mu}\\right)^\\lambda e^{-\\frac{\\lambda x}{\\mu}},\\hspace{15pt} x\\ge 0.$$\n",
    "\n",
    "Также напомним, что для GLM с функцией связи $\\ln(x)$ предсказание (оценка математического ожидания) имеет вид $\\hat {y} = e^{x{^T}\\beta + {\\beta_{0}}}$.\n"
   ]
  },
  {
   "cell_type": "markdown",
   "metadata": {
    "colab_type": "text",
    "id": "XTIQAUDg9NXg"
   },
   "source": [
    "Тогда, для оценивания коэффициентов нашей модели необходимо максимизировать правдоподобие (совместную условную вероятность при имеющихся данных), что данные имеют Гамма-распределение, в предположении известного параметра $\\lambda$:\n",
    "$$p(y_1,\\dots,y_n|x_1,\\dots,x_n;\\beta_0,\\beta) = \\prod_{i=1}^{N}\\frac{1}{y_i\\cdot\\Gamma(\\lambda)}\\left(\\frac{\\lambda y_i}{e^{x_i{^T}\\beta + {\\beta_{0}}}}\\right)^\\lambda e^{-\\frac{\\lambda y_i}{e^{x_i{^T}\\beta + {\\beta_{0}}}}} = L(\\beta_0,\\beta|y_1,\\dots,y_n,x_1,\\dots,x_n).$$\n",
    "Для упрощения задачи оптимизации перейдем к логарифму правдоподобия:\n",
    "\\begin{align}\n",
    "\\ell(\\beta_0,\\beta|y_1,\\dots,y_n,x_1,\\dots,x_n) &= \\sum_{i=1}^{N}\\left(-\\ln(\\Gamma(\\lambda))-\\ln(y_i)+ \\lambda\\ln\\left(\\frac{\\lambda y_i}{e^{x_i{^T}\\beta + {\\beta_{0}}}}\\right) -\\frac{\\lambda y_i}{e^{x_i{^T}\\beta + {\\beta_{0}}}}\\right)\\\\ &= \\sum_{i=1}^{N}\\left(-\\ln(\\Gamma(\\lambda))-\\ln(y_i) + \\lambda\\ln\\left(\\lambda\\right)+\\lambda\\ln\\left(y_i\\right)-\\lambda\\left({x_i{^T}\\beta + {\\beta_{0}}}\\right) -\\frac{\\lambda y_i}{e^{x_i{^T}\\beta + {\\beta_{0}}}}\\right)\\\\ &= \\sum_{i=1}^{N}\\left((\\lambda-1)\\ln\\left(y_i\\right)-\\ln(\\Gamma(\\lambda)) + \\lambda\\ln\\left(\\lambda\\right)-\\lambda\\left({x_i{^T}\\beta + {\\beta_{0}}}\\right) -\\frac{\\lambda y_i}{e^{x_i{^T}\\beta + {\\beta_{0}}}}\\right).\n",
    "\\end{align}\n",
    "Тогда обозначим слагаемые, не зависящие от параметров модели ($\\beta_0$, $\\beta$), как некоторую константу $C$, получаем:\n",
    "$$\\ell(\\beta_0,\\beta|y_1,\\dots,y_n,x_1,\\dots,x_n) = \\sum_{i=1}^{N}\\left(-\\lambda\\left(\\left({x_i{^T}\\beta + {\\beta_{0}}}\\right) +\\frac{y_i}{e^{x_i{^T}\\beta + {\\beta_{0}}}}\\right) + C(y_i, \\lambda)\\right),$$\n",
    "Таким образом, требуется максимизировать\n",
    "$$\\ell(\\beta_0,\\beta|y_1,\\dots,y_n,x_1,\\dots,x_n) = -\\sum_{i=1}^{N}\\left(\\left({x_i{^T}\\beta + {\\beta_{0}}}\\right) + \\frac{y_i}{e^{x_i{^T}\\beta + {\\beta_{0}}}}\\right),$$\n",
    "Далее численно решается задача оптимизации для определения параметров модели:\n",
    "$$\\frac{\\partial \\ell(\\beta_0,\\beta|y_1,\\dots,y_n,x_1,\\dots,x_n)}{\\partial \\beta_0} = 0,\\\\\\frac{\\partial \\ell(\\beta_0,\\beta|y_1,\\dots,y_n,x_1,\\dots,x_n)}{\\partial \\beta} = 0.$$\n",
    "Обычно минимизируется отрицательное правдоподобие, которое является выпуклой функцией."
   ]
  },
  {
   "cell_type": "markdown",
   "metadata": {
    "colab_type": "text",
    "id": "idUKi7_RqxHA"
   },
   "source": [
    "##### Вывод метрики Deviance для GLM с Гамма-распределением"
   ]
  },
  {
   "cell_type": "markdown",
   "metadata": {
    "colab_type": "text",
    "id": "FK1D3Pz3qwbL"
   },
   "source": [
    "Метрика Deviance представляет собой отношение правдоподобия между двумя моделями: рассматриваемой моделью и \"идеальной\" моделью, в которая бы идеально предсказывала бы зависимую переменную.\n",
    "$$Deviance = 2(\\ell_{ideal} - \\ell_{model})$$\n",
    "\n",
    "В качестве такой \"идеальной модели\" может использоваться сама зависимая переменная. Тогда, логарифм правдоподобия \"идеальной модели\" для GLM с распределением Пуассона имеет вид:\n",
    "$$\\ell_{ideal} = -\\sum_{i=1}^{N}\\left(1 + \\ln(y_i)\\right).$$\n",
    "\n",
    "Из приведенного выше вывода правдоподобия для рассматриваемой модели, мы можем записать, обозначив $\\hat{y}_i = e^{x{^T}\\beta + {\\beta_{0}}}$:\n",
    "$$\\ell_{model} = -\\sum_{i=1}^{N}\\left(\\frac{y_i}{\\hat{y}_i} + \\ln(\\hat{y}_i)\\right).$$\n",
    "\n",
    "Тогда получаем,\n",
    "$$Deviance = 2\\sum_{i=1}^{N}\\left(- 1 - \\ln(y_i) + \\frac{y_i}{\\hat{y}_i} + \\ln(\\hat{y}_i)\\right) = 2\\sum_{i=1}^{N}\\left(-\\ln\\left(\\frac{y_i}{\\hat{y}_i}\\right)+\\frac{y_i-\\hat{y}_i}{\\hat{y}_i} \\right).$$"
   ]
  },
  {
   "cell_type": "markdown",
   "metadata": {
    "colab_type": "text",
    "id": "hUUC9Vmhf5aB"
   },
   "source": [
    "#### Дополнительная литература по GLM"
   ]
  },
  {
   "cell_type": "markdown",
   "metadata": {
    "colab_type": "text",
    "id": "gRAxYOQcf-uD"
   },
   "source": [
    "*   [P. McCullagh, John A. Nelder _\"Generalized Linear Models\"_](http://www.utstat.toronto.edu/~brunner/oldclass/2201s11/readings/glmbook.pdf)\n",
    "*   [D. Anderson, et al. _\"A practitioner’s guide to generalized linear models\"_](https://www.casact.org/pubs/dpp/dpp04/04dpp1.pdf)\n",
    "*   [E. Ohlsson, B. Johansson _\"Non-life insurance pricing with generalized linear models\"_](https://www.springer.com/gp/book/9783642107900)\n",
    "*   [P. De Jong, G. Heller _\"Generalized linear models for insurance data\"_](https://feb.kuleuven.be/public/u0017833/boek.pdf)\n",
    "\n",
    "\n"
   ]
  },
  {
   "cell_type": "markdown",
   "metadata": {
    "colab_type": "text",
    "id": "fKCG1lssMNA7"
   },
   "source": [
    "### Установка H2O на Google Colaboratory и инициализация"
   ]
  },
  {
   "cell_type": "code",
   "execution_count": 26,
   "metadata": {
    "colab": {
     "base_uri": "https://localhost:8080/",
     "height": 103
    },
    "colab_type": "code",
    "id": "XgOdDSP-gXCd",
    "outputId": "27436363-f8b1-4752-87c7-ce22b5c85ba5"
   },
   "outputs": [
    {
     "name": "stdout",
     "output_type": "stream",
     "text": [
      "E: Не удалось открыть файл блокировки /var/lib/dpkg/lock-frontend - open (13: Отказано в доступе)\r\n",
      "E: Невозможно получить блокировку внешнего интерфейса dpkg (/var/lib/dpkg/lock-frontend); у вас есть права суперпользователя?\r\n"
     ]
    }
   ],
   "source": [
    "!apt-get install default-jre"
   ]
  },
  {
   "cell_type": "code",
   "execution_count": 27,
   "metadata": {
    "colab": {
     "base_uri": "https://localhost:8080/",
     "height": 68
    },
    "colab_type": "code",
    "id": "pvu-Rs1GMl0a",
    "outputId": "48b5ca49-3835-4316-8c9b-076ebd1bd4b5"
   },
   "outputs": [
    {
     "name": "stdout",
     "output_type": "stream",
     "text": [
      "openjdk version \"1.8.0_152-release\"\r\n",
      "OpenJDK Runtime Environment (build 1.8.0_152-release-1056-b12)\r\n",
      "OpenJDK 64-Bit Server VM (build 25.152-b12, mixed mode)\r\n"
     ]
    }
   ],
   "source": [
    "!java -version"
   ]
  },
  {
   "cell_type": "code",
   "execution_count": 25,
   "metadata": {
    "colab": {
     "base_uri": "https://localhost:8080/",
     "height": 171
    },
    "colab_type": "code",
    "id": "oTpLqa_sgJH4",
    "outputId": "c992e292-803b-4479-a480-ef9476efa33a"
   },
   "outputs": [
    {
     "name": "stdout",
     "output_type": "stream",
     "text": [
      "Collecting h2o\n",
      "  Downloading h2o-3.30.0.3.tar.gz (128.3 MB)\n",
      "\u001b[K     |████████████████████████████████| 128.3 MB 151 kB/s  eta 0:00:01  |█                               | 4.3 MB 535 kB/s eta 0:03:52     |█████▉                          | 23.4 MB 11.2 MB/s eta 0:00:10     |██████                          | 24.0 MB 11.2 MB/s eta 0:00:10     |████████████▉                   | 51.5 MB 6.9 MB/s eta 0:00:12     |██████████████████████▎         | 89.5 MB 13.8 MB/s eta 0:00:03     |███████████████████████████████▉| 127.7 MB 24.6 MB/s eta 0:00:01\n",
      "\u001b[?25hRequirement already satisfied: requests in /home/brutalfacepalm/anaconda3/lib/python3.7/site-packages (from h2o) (2.22.0)\n",
      "Collecting tabulate\n",
      "  Downloading tabulate-0.8.7-py3-none-any.whl (24 kB)\n",
      "Requirement already satisfied: future in /home/brutalfacepalm/anaconda3/lib/python3.7/site-packages (from h2o) (0.18.2)\n",
      "Requirement already satisfied: colorama>=0.3.8 in /home/brutalfacepalm/anaconda3/lib/python3.7/site-packages (from h2o) (0.4.3)\n",
      "Requirement already satisfied: idna<2.9,>=2.5 in /home/brutalfacepalm/anaconda3/lib/python3.7/site-packages (from requests->h2o) (2.8)\n",
      "Requirement already satisfied: chardet<3.1.0,>=3.0.2 in /home/brutalfacepalm/anaconda3/lib/python3.7/site-packages (from requests->h2o) (3.0.4)\n",
      "Requirement already satisfied: certifi>=2017.4.17 in /home/brutalfacepalm/anaconda3/lib/python3.7/site-packages (from requests->h2o) (2019.11.28)\n",
      "Requirement already satisfied: urllib3!=1.25.0,!=1.25.1,<1.26,>=1.21.1 in /home/brutalfacepalm/anaconda3/lib/python3.7/site-packages (from requests->h2o) (1.25.8)\n",
      "Building wheels for collected packages: h2o\n",
      "  Building wheel for h2o (setup.py) ... \u001b[?25ldone\n",
      "\u001b[?25h  Created wheel for h2o: filename=h2o-3.30.0.3-py2.py3-none-any.whl size=128358449 sha256=128c063d8751d1f9050c3c70efe5b8654c7fb2297ca908076814733246d7fe8f\n",
      "  Stored in directory: /home/brutalfacepalm/.cache/pip/wheels/9e/d9/89/2096c2fb93a49768b830331e921caa9b2e6c71e1a7336973d3\n",
      "Successfully built h2o\n",
      "Installing collected packages: tabulate, h2o\n",
      "Successfully installed h2o-3.30.0.3 tabulate-0.8.7\n"
     ]
    }
   ],
   "source": [
    "!pip install h2o"
   ]
  },
  {
   "cell_type": "code",
   "execution_count": 23,
   "metadata": {
    "colab": {
     "base_uri": "https://localhost:8080/",
     "height": 356
    },
    "colab_type": "code",
    "id": "KSdsMa-agl-6",
    "outputId": "c7758007-0b37-4148-f6b0-36bdeafb345a"
   },
   "outputs": [
    {
     "name": "stdout",
     "output_type": "stream",
     "text": [
      "Checking whether there is an H2O instance running at http://localhost:54321 ..... not found.\n",
      "Attempting to start a local H2O server...\n",
      "  Java Version: openjdk version \"1.8.0_152-release\"; OpenJDK Runtime Environment (build 1.8.0_152-release-1056-b12); OpenJDK 64-Bit Server VM (build 25.152-b12, mixed mode)\n",
      "  Starting server from /home/brutalfacepalm/anaconda3/lib/python3.7/site-packages/h2o/backend/bin/h2o.jar\n",
      "  Ice root: /tmp/tmpx5lvvqhb\n",
      "  JVM stdout: /tmp/tmpx5lvvqhb/h2o_brutalfacepalm_started_from_python.out\n",
      "  JVM stderr: /tmp/tmpx5lvvqhb/h2o_brutalfacepalm_started_from_python.err\n",
      "  Server is running at http://127.0.0.1:54321\n",
      "Connecting to H2O server at http://127.0.0.1:54321 ... successful.\n"
     ]
    },
    {
     "data": {
      "text/html": [
       "<div style=\"overflow:auto\"><table style=\"width:50%\"><tr><td>H2O_cluster_uptime:</td>\n",
       "<td>02 secs</td></tr>\n",
       "<tr><td>H2O_cluster_timezone:</td>\n",
       "<td>Europe/Samara</td></tr>\n",
       "<tr><td>H2O_data_parsing_timezone:</td>\n",
       "<td>UTC</td></tr>\n",
       "<tr><td>H2O_cluster_version:</td>\n",
       "<td>3.30.0.3</td></tr>\n",
       "<tr><td>H2O_cluster_version_age:</td>\n",
       "<td>16 days </td></tr>\n",
       "<tr><td>H2O_cluster_name:</td>\n",
       "<td>H2O_from_python_brutalfacepalm_9jw9od</td></tr>\n",
       "<tr><td>H2O_cluster_total_nodes:</td>\n",
       "<td>1</td></tr>\n",
       "<tr><td>H2O_cluster_free_memory:</td>\n",
       "<td>1.703 Gb</td></tr>\n",
       "<tr><td>H2O_cluster_total_cores:</td>\n",
       "<td>4</td></tr>\n",
       "<tr><td>H2O_cluster_allowed_cores:</td>\n",
       "<td>4</td></tr>\n",
       "<tr><td>H2O_cluster_status:</td>\n",
       "<td>accepting new members, healthy</td></tr>\n",
       "<tr><td>H2O_connection_url:</td>\n",
       "<td>http://127.0.0.1:54321</td></tr>\n",
       "<tr><td>H2O_connection_proxy:</td>\n",
       "<td>{\"http\": null, \"https\": null}</td></tr>\n",
       "<tr><td>H2O_internal_security:</td>\n",
       "<td>False</td></tr>\n",
       "<tr><td>H2O_API_Extensions:</td>\n",
       "<td>Amazon S3, XGBoost, Algos, AutoML, Core V3, TargetEncoder, Core V4</td></tr>\n",
       "<tr><td>Python_version:</td>\n",
       "<td>3.7.6 final</td></tr></table></div>"
      ],
      "text/plain": [
       "--------------------------  ------------------------------------------------------------------\n",
       "H2O_cluster_uptime:         02 secs\n",
       "H2O_cluster_timezone:       Europe/Samara\n",
       "H2O_data_parsing_timezone:  UTC\n",
       "H2O_cluster_version:        3.30.0.3\n",
       "H2O_cluster_version_age:    16 days\n",
       "H2O_cluster_name:           H2O_from_python_brutalfacepalm_9jw9od\n",
       "H2O_cluster_total_nodes:    1\n",
       "H2O_cluster_free_memory:    1.703 Gb\n",
       "H2O_cluster_total_cores:    4\n",
       "H2O_cluster_allowed_cores:  4\n",
       "H2O_cluster_status:         accepting new members, healthy\n",
       "H2O_connection_url:         http://127.0.0.1:54321\n",
       "H2O_connection_proxy:       {\"http\": null, \"https\": null}\n",
       "H2O_internal_security:      False\n",
       "H2O_API_Extensions:         Amazon S3, XGBoost, Algos, AutoML, Core V3, TargetEncoder, Core V4\n",
       "Python_version:             3.7.6 final\n",
       "--------------------------  ------------------------------------------------------------------"
      ]
     },
     "metadata": {},
     "output_type": "display_data"
    }
   ],
   "source": [
    "import h2o\n",
    "from h2o.estimators.glm import H2OGeneralizedLinearEstimator\n",
    "h2o.init()"
   ]
  },
  {
   "cell_type": "markdown",
   "metadata": {
    "colab_type": "text",
    "id": "YttnrY4wMqu3"
   },
   "source": [
    "### Построение GLM для частоты страховых случаев"
   ]
  },
  {
   "cell_type": "code",
   "execution_count": 24,
   "metadata": {
    "colab": {
     "base_uri": "https://localhost:8080/",
     "height": 68
    },
    "colab_type": "code",
    "id": "r-BqsBNx_zIH",
    "outputId": "6068637f-37e1-42d4-db6d-0e3b4dc84739"
   },
   "outputs": [
    {
     "name": "stdout",
     "output_type": "stream",
     "text": [
      "Parse progress: |█████████████████████████████████████████████████████████| 100%\n",
      "Parse progress: |█████████████████████████████████████████████████████████| 100%\n",
      "Parse progress: |█████████████████████████████████████████████████████████| 100%\n"
     ]
    }
   ],
   "source": [
    "# Преобразование в H2O-Frame\n",
    "\n",
    "h2o_train_c = h2o.H2OFrame(pd.concat([x_train_c, y_train_c], axis=1))\n",
    "h2o_valid_c = h2o.H2OFrame(pd.concat([x_valid_c, y_valid_c], axis=1))\n",
    "h2o_test_c = h2o.H2OFrame(pd.concat([x_test_c, y_test_c], axis=1))"
   ]
  },
  {
   "cell_type": "code",
   "execution_count": 46,
   "metadata": {
    "colab": {
     "base_uri": "https://localhost:8080/",
     "height": 34
    },
    "colab_type": "code",
    "id": "GarP9wfMgmiP",
    "outputId": "e5b082ae-0b12-44b3-99de-7a5db1d09823"
   },
   "outputs": [
    {
     "name": "stdout",
     "output_type": "stream",
     "text": [
      "glm Model Build progress: |███████████████████████████████████████████████| 100%\n"
     ]
    }
   ],
   "source": [
    "# Инициализируем и обучим GLM модель c кросс-валидацией\n",
    "\n",
    "glm_poisson = H2OGeneralizedLinearEstimator(family = \"Negative Binomial\", link = \"Log\", nfolds=5, seed=1)\n",
    "glm_poisson.train(y=\"ClaimsCount\", x = h2o_train_c.names[1:-1], training_frame = h2o_train_c, validation_frame = h2o_valid_c, weights_column = \"Exposure\")"
   ]
  },
  {
   "cell_type": "code",
   "execution_count": 47,
   "metadata": {
    "colab": {
     "base_uri": "https://localhost:8080/",
     "height": 131
    },
    "colab_type": "code",
    "id": "10JsIABsBwxq",
    "outputId": "6a27beb1-0587-4d7a-f7a5-9120100c5008"
   },
   "outputs": [
    {
     "name": "stdout",
     "output_type": "stream",
     "text": [
      "\n",
      "GLM Model: summary\n"
     ]
    },
    {
     "data": {
      "text/html": [
       "<div>\n",
       "<style scoped>\n",
       "    .dataframe tbody tr th:only-of-type {\n",
       "        vertical-align: middle;\n",
       "    }\n",
       "\n",
       "    .dataframe tbody tr th {\n",
       "        vertical-align: top;\n",
       "    }\n",
       "\n",
       "    .dataframe thead th {\n",
       "        text-align: right;\n",
       "    }\n",
       "</style>\n",
       "<table border=\"1\" class=\"dataframe\">\n",
       "  <thead>\n",
       "    <tr style=\"text-align: right;\">\n",
       "      <th></th>\n",
       "      <th></th>\n",
       "      <th>family</th>\n",
       "      <th>link</th>\n",
       "      <th>regularization</th>\n",
       "      <th>number_of_predictors_total</th>\n",
       "      <th>number_of_active_predictors</th>\n",
       "      <th>number_of_iterations</th>\n",
       "      <th>training_frame</th>\n",
       "    </tr>\n",
       "  </thead>\n",
       "  <tbody>\n",
       "    <tr>\n",
       "      <th>0</th>\n",
       "      <td></td>\n",
       "      <td>negativebinomial</td>\n",
       "      <td>log</td>\n",
       "      <td>Elastic Net (alpha = 0.5, lambda = 1.336E-4 )</td>\n",
       "      <td>20</td>\n",
       "      <td>19</td>\n",
       "      <td>3</td>\n",
       "      <td>Key_Frame__upload_af5f18891a22e7b8d13fc18dccd1422a.hex</td>\n",
       "    </tr>\n",
       "  </tbody>\n",
       "</table>\n",
       "</div>"
      ],
      "text/plain": [
       "               family link                                 regularization  \\\n",
       "0    negativebinomial  log  Elastic Net (alpha = 0.5, lambda = 1.336E-4 )   \n",
       "\n",
       "   number_of_predictors_total number_of_active_predictors  \\\n",
       "0                          20                          19   \n",
       "\n",
       "   number_of_iterations  \\\n",
       "0                     3   \n",
       "\n",
       "                                           training_frame  \n",
       "0  Key_Frame__upload_af5f18891a22e7b8d13fc18dccd1422a.hex  "
      ]
     },
     "metadata": {},
     "output_type": "display_data"
    },
    {
     "data": {
      "text/plain": []
     },
     "execution_count": 47,
     "metadata": {},
     "output_type": "execute_result"
    }
   ],
   "source": [
    "# Параметры модели: распределение, функция связи, гиперпараметры регуляризации, количество использованных объясняющих переменных\n",
    "\n",
    "glm_poisson.summary()"
   ]
  },
  {
   "cell_type": "code",
   "execution_count": 48,
   "metadata": {
    "colab": {
     "base_uri": "https://localhost:8080/",
     "height": 295
    },
    "colab_type": "code",
    "id": "tKL0w-LECQ2G",
    "outputId": "923e6f63-0742-49bd-a36f-0196df9d7abd"
   },
   "outputs": [
    {
     "data": {
      "text/html": [
       "<div>\n",
       "<style scoped>\n",
       "    .dataframe tbody tr th:only-of-type {\n",
       "        vertical-align: middle;\n",
       "    }\n",
       "\n",
       "    .dataframe tbody tr th {\n",
       "        vertical-align: top;\n",
       "    }\n",
       "\n",
       "    .dataframe thead th {\n",
       "        text-align: right;\n",
       "    }\n",
       "</style>\n",
       "<table border=\"1\" class=\"dataframe\">\n",
       "  <thead>\n",
       "    <tr style=\"text-align: right;\">\n",
       "      <th></th>\n",
       "      <th></th>\n",
       "      <th>mean</th>\n",
       "      <th>sd</th>\n",
       "      <th>cv_1_valid</th>\n",
       "      <th>cv_2_valid</th>\n",
       "      <th>cv_3_valid</th>\n",
       "      <th>cv_4_valid</th>\n",
       "      <th>cv_5_valid</th>\n",
       "    </tr>\n",
       "  </thead>\n",
       "  <tbody>\n",
       "    <tr>\n",
       "      <th>0</th>\n",
       "      <td>mae</td>\n",
       "      <td>0.5033268</td>\n",
       "      <td>0.003567084</td>\n",
       "      <td>0.49750394</td>\n",
       "      <td>0.50354356</td>\n",
       "      <td>0.5033735</td>\n",
       "      <td>0.50524354</td>\n",
       "      <td>0.5069693</td>\n",
       "    </tr>\n",
       "    <tr>\n",
       "      <th>1</th>\n",
       "      <td>mean_residual_deviance</td>\n",
       "      <td>0.74113</td>\n",
       "      <td>0.026758842</td>\n",
       "      <td>0.69942755</td>\n",
       "      <td>0.75043625</td>\n",
       "      <td>0.7330953</td>\n",
       "      <td>0.75249803</td>\n",
       "      <td>0.77019286</td>\n",
       "    </tr>\n",
       "    <tr>\n",
       "      <th>2</th>\n",
       "      <td>mse</td>\n",
       "      <td>0.75442743</td>\n",
       "      <td>0.023564754</td>\n",
       "      <td>0.7150079</td>\n",
       "      <td>0.7649203</td>\n",
       "      <td>0.75331366</td>\n",
       "      <td>0.76221126</td>\n",
       "      <td>0.77668417</td>\n",
       "    </tr>\n",
       "    <tr>\n",
       "      <th>3</th>\n",
       "      <td>null_deviance</td>\n",
       "      <td>5462.516</td>\n",
       "      <td>193.9369</td>\n",
       "      <td>5138.86</td>\n",
       "      <td>5518.326</td>\n",
       "      <td>5507.496</td>\n",
       "      <td>5485.2925</td>\n",
       "      <td>5662.606</td>\n",
       "    </tr>\n",
       "    <tr>\n",
       "      <th>4</th>\n",
       "      <td>r2</td>\n",
       "      <td>0.011558215</td>\n",
       "      <td>0.0011103118</td>\n",
       "      <td>0.00974927</td>\n",
       "      <td>0.012326641</td>\n",
       "      <td>0.012572736</td>\n",
       "      <td>0.011710534</td>\n",
       "      <td>0.011431897</td>\n",
       "    </tr>\n",
       "    <tr>\n",
       "      <th>5</th>\n",
       "      <td>residual_deviance</td>\n",
       "      <td>5284.9375</td>\n",
       "      <td>198.50018</td>\n",
       "      <td>4962.825</td>\n",
       "      <td>5357.47</td>\n",
       "      <td>5284.0005</td>\n",
       "      <td>5317.4287</td>\n",
       "      <td>5502.9634</td>\n",
       "    </tr>\n",
       "    <tr>\n",
       "      <th>6</th>\n",
       "      <td>rmse</td>\n",
       "      <td>0.8684918</td>\n",
       "      <td>0.013667405</td>\n",
       "      <td>0.8455814</td>\n",
       "      <td>0.87459725</td>\n",
       "      <td>0.86793643</td>\n",
       "      <td>0.8730471</td>\n",
       "      <td>0.8812969</td>\n",
       "    </tr>\n",
       "    <tr>\n",
       "      <th>7</th>\n",
       "      <td>rmsle</td>\n",
       "      <td>0.4102664</td>\n",
       "      <td>0.002648895</td>\n",
       "      <td>0.4061663</td>\n",
       "      <td>0.41066682</td>\n",
       "      <td>0.4097214</td>\n",
       "      <td>0.41144282</td>\n",
       "      <td>0.4133347</td>\n",
       "    </tr>\n",
       "  </tbody>\n",
       "</table>\n",
       "</div>"
      ],
      "text/plain": [
       "                                  mean            sd  cv_1_valid   cv_2_valid  \\\n",
       "0                     mae    0.5033268   0.003567084  0.49750394   0.50354356   \n",
       "1  mean_residual_deviance      0.74113   0.026758842  0.69942755   0.75043625   \n",
       "2                     mse   0.75442743   0.023564754   0.7150079    0.7649203   \n",
       "3           null_deviance     5462.516      193.9369     5138.86     5518.326   \n",
       "4                      r2  0.011558215  0.0011103118  0.00974927  0.012326641   \n",
       "5       residual_deviance    5284.9375     198.50018    4962.825      5357.47   \n",
       "6                    rmse    0.8684918   0.013667405   0.8455814   0.87459725   \n",
       "7                   rmsle    0.4102664   0.002648895   0.4061663   0.41066682   \n",
       "\n",
       "    cv_3_valid   cv_4_valid   cv_5_valid  \n",
       "0    0.5033735   0.50524354    0.5069693  \n",
       "1    0.7330953   0.75249803   0.77019286  \n",
       "2   0.75331366   0.76221126   0.77668417  \n",
       "3     5507.496    5485.2925     5662.606  \n",
       "4  0.012572736  0.011710534  0.011431897  \n",
       "5    5284.0005    5317.4287    5502.9634  \n",
       "6   0.86793643    0.8730471    0.8812969  \n",
       "7    0.4097214   0.41144282    0.4133347  "
      ]
     },
     "execution_count": 48,
     "metadata": {},
     "output_type": "execute_result"
    }
   ],
   "source": [
    "# Метрики качества модели - по всем данным и на кросс-валидации\n",
    "\n",
    "glm_poisson.cross_validation_metrics_summary().as_data_frame()"
   ]
  },
  {
   "cell_type": "code",
   "execution_count": 41,
   "metadata": {
    "colab": {
     "base_uri": "https://localhost:8080/",
     "height": 696
    },
    "colab_type": "code",
    "id": "vImto5eTCmzi",
    "outputId": "5d7b683b-1826-4c4a-8f7b-6510fa69f06c"
   },
   "outputs": [
    {
     "data": {
      "text/html": [
       "<div>\n",
       "<style scoped>\n",
       "    .dataframe tbody tr th:only-of-type {\n",
       "        vertical-align: middle;\n",
       "    }\n",
       "\n",
       "    .dataframe tbody tr th {\n",
       "        vertical-align: top;\n",
       "    }\n",
       "\n",
       "    .dataframe thead th {\n",
       "        text-align: right;\n",
       "    }\n",
       "</style>\n",
       "<table border=\"1\" class=\"dataframe\">\n",
       "  <thead>\n",
       "    <tr style=\"text-align: right;\">\n",
       "      <th></th>\n",
       "      <th>names</th>\n",
       "      <th>coefficients</th>\n",
       "      <th>standardized_coefficients</th>\n",
       "    </tr>\n",
       "  </thead>\n",
       "  <tbody>\n",
       "    <tr>\n",
       "      <th>0</th>\n",
       "      <td>Intercept</td>\n",
       "      <td>-2.220675</td>\n",
       "      <td>-1.285319</td>\n",
       "    </tr>\n",
       "    <tr>\n",
       "      <th>1</th>\n",
       "      <td>LicAge</td>\n",
       "      <td>0.000194</td>\n",
       "      <td>0.030931</td>\n",
       "    </tr>\n",
       "    <tr>\n",
       "      <th>2</th>\n",
       "      <td>Gender</td>\n",
       "      <td>0.003870</td>\n",
       "      <td>0.001874</td>\n",
       "    </tr>\n",
       "    <tr>\n",
       "      <th>3</th>\n",
       "      <td>MariStat</td>\n",
       "      <td>-0.115084</td>\n",
       "      <td>-0.041152</td>\n",
       "    </tr>\n",
       "    <tr>\n",
       "      <th>4</th>\n",
       "      <td>DrivAge</td>\n",
       "      <td>0.004924</td>\n",
       "      <td>0.073696</td>\n",
       "    </tr>\n",
       "    <tr>\n",
       "      <th>5</th>\n",
       "      <td>HasKmLimit</td>\n",
       "      <td>-0.467990</td>\n",
       "      <td>-0.145415</td>\n",
       "    </tr>\n",
       "    <tr>\n",
       "      <th>6</th>\n",
       "      <td>BonusMalus</td>\n",
       "      <td>0.012914</td>\n",
       "      <td>0.194712</td>\n",
       "    </tr>\n",
       "    <tr>\n",
       "      <th>7</th>\n",
       "      <td>OutUseNb</td>\n",
       "      <td>0.084635</td>\n",
       "      <td>0.056781</td>\n",
       "    </tr>\n",
       "    <tr>\n",
       "      <th>8</th>\n",
       "      <td>RiskArea</td>\n",
       "      <td>0.015406</td>\n",
       "      <td>0.034085</td>\n",
       "    </tr>\n",
       "    <tr>\n",
       "      <th>9</th>\n",
       "      <td>VehUsage_Private</td>\n",
       "      <td>-0.200181</td>\n",
       "      <td>-0.094939</td>\n",
       "    </tr>\n",
       "    <tr>\n",
       "      <th>10</th>\n",
       "      <td>VehUsage_Private+trip to office</td>\n",
       "      <td>0.000000</td>\n",
       "      <td>0.000000</td>\n",
       "    </tr>\n",
       "    <tr>\n",
       "      <th>11</th>\n",
       "      <td>VehUsage_Professional</td>\n",
       "      <td>0.306199</td>\n",
       "      <td>0.102734</td>\n",
       "    </tr>\n",
       "    <tr>\n",
       "      <th>12</th>\n",
       "      <td>VehUsage_Professional run</td>\n",
       "      <td>0.436824</td>\n",
       "      <td>0.059233</td>\n",
       "    </tr>\n",
       "    <tr>\n",
       "      <th>13</th>\n",
       "      <td>SocioCateg_CSP1</td>\n",
       "      <td>-0.111144</td>\n",
       "      <td>-0.017234</td>\n",
       "    </tr>\n",
       "    <tr>\n",
       "      <th>14</th>\n",
       "      <td>SocioCateg_CSP2</td>\n",
       "      <td>-0.277864</td>\n",
       "      <td>-0.047303</td>\n",
       "    </tr>\n",
       "    <tr>\n",
       "      <th>15</th>\n",
       "      <td>SocioCateg_CSP3</td>\n",
       "      <td>0.321790</td>\n",
       "      <td>0.033530</td>\n",
       "    </tr>\n",
       "    <tr>\n",
       "      <th>16</th>\n",
       "      <td>SocioCateg_CSP4</td>\n",
       "      <td>0.036640</td>\n",
       "      <td>0.009263</td>\n",
       "    </tr>\n",
       "    <tr>\n",
       "      <th>17</th>\n",
       "      <td>SocioCateg_CSP5</td>\n",
       "      <td>-0.021179</td>\n",
       "      <td>-0.010149</td>\n",
       "    </tr>\n",
       "    <tr>\n",
       "      <th>18</th>\n",
       "      <td>SocioCateg_CSP6</td>\n",
       "      <td>0.076750</td>\n",
       "      <td>0.031951</td>\n",
       "    </tr>\n",
       "    <tr>\n",
       "      <th>19</th>\n",
       "      <td>SocioCateg_CSP7</td>\n",
       "      <td>-0.422138</td>\n",
       "      <td>-0.004134</td>\n",
       "    </tr>\n",
       "    <tr>\n",
       "      <th>20</th>\n",
       "      <td>DrivAgeSq</td>\n",
       "      <td>-0.000069</td>\n",
       "      <td>-0.107275</td>\n",
       "    </tr>\n",
       "  </tbody>\n",
       "</table>\n",
       "</div>"
      ],
      "text/plain": [
       "                              names  coefficients  standardized_coefficients\n",
       "0                         Intercept     -2.220675                  -1.285319\n",
       "1                            LicAge      0.000194                   0.030931\n",
       "2                            Gender      0.003870                   0.001874\n",
       "3                          MariStat     -0.115084                  -0.041152\n",
       "4                           DrivAge      0.004924                   0.073696\n",
       "5                        HasKmLimit     -0.467990                  -0.145415\n",
       "6                        BonusMalus      0.012914                   0.194712\n",
       "7                          OutUseNb      0.084635                   0.056781\n",
       "8                          RiskArea      0.015406                   0.034085\n",
       "9                  VehUsage_Private     -0.200181                  -0.094939\n",
       "10  VehUsage_Private+trip to office      0.000000                   0.000000\n",
       "11            VehUsage_Professional      0.306199                   0.102734\n",
       "12        VehUsage_Professional run      0.436824                   0.059233\n",
       "13                  SocioCateg_CSP1     -0.111144                  -0.017234\n",
       "14                  SocioCateg_CSP2     -0.277864                  -0.047303\n",
       "15                  SocioCateg_CSP3      0.321790                   0.033530\n",
       "16                  SocioCateg_CSP4      0.036640                   0.009263\n",
       "17                  SocioCateg_CSP5     -0.021179                  -0.010149\n",
       "18                  SocioCateg_CSP6      0.076750                   0.031951\n",
       "19                  SocioCateg_CSP7     -0.422138                  -0.004134\n",
       "20                        DrivAgeSq     -0.000069                  -0.107275"
      ]
     },
     "execution_count": 41,
     "metadata": {},
     "output_type": "execute_result"
    }
   ],
   "source": [
    "# Таблица коэффициентов модели (в зависимости от модели могут выводиться также стандартная ошибка, z-score и p-value)\n",
    "\n",
    "glm_poisson._model_json['output']['coefficients_table'].as_data_frame()"
   ]
  },
  {
   "cell_type": "code",
   "execution_count": 42,
   "metadata": {
    "colab": {
     "base_uri": "https://localhost:8080/",
     "height": 696
    },
    "colab_type": "code",
    "id": "Z6CZpc6WAx-d",
    "outputId": "ff4567f0-333c-4b12-db01-c04db3d93234"
   },
   "outputs": [
    {
     "data": {
      "text/html": [
       "<div>\n",
       "<style scoped>\n",
       "    .dataframe tbody tr th:only-of-type {\n",
       "        vertical-align: middle;\n",
       "    }\n",
       "\n",
       "    .dataframe tbody tr th {\n",
       "        vertical-align: top;\n",
       "    }\n",
       "\n",
       "    .dataframe thead th {\n",
       "        text-align: right;\n",
       "    }\n",
       "</style>\n",
       "<table border=\"1\" class=\"dataframe\">\n",
       "  <thead>\n",
       "    <tr style=\"text-align: right;\">\n",
       "      <th></th>\n",
       "      <th>overall</th>\n",
       "      <th>0</th>\n",
       "      <th>1</th>\n",
       "      <th>2</th>\n",
       "      <th>3</th>\n",
       "      <th>4</th>\n",
       "    </tr>\n",
       "  </thead>\n",
       "  <tbody>\n",
       "    <tr>\n",
       "      <th>Intercept</th>\n",
       "      <td>-1.28532</td>\n",
       "      <td>-1.27648</td>\n",
       "      <td>-1.28703</td>\n",
       "      <td>-1.28277</td>\n",
       "      <td>-1.29010</td>\n",
       "      <td>-1.29206</td>\n",
       "    </tr>\n",
       "    <tr>\n",
       "      <th>LicAge</th>\n",
       "      <td>0.03093</td>\n",
       "      <td>0.05051</td>\n",
       "      <td>0.00503</td>\n",
       "      <td>0.04367</td>\n",
       "      <td>0.04728</td>\n",
       "      <td>0.01475</td>\n",
       "    </tr>\n",
       "    <tr>\n",
       "      <th>Gender</th>\n",
       "      <td>0.00187</td>\n",
       "      <td>0.00682</td>\n",
       "      <td>-0.01459</td>\n",
       "      <td>0.00740</td>\n",
       "      <td>0.00491</td>\n",
       "      <td>0.00536</td>\n",
       "    </tr>\n",
       "    <tr>\n",
       "      <th>MariStat</th>\n",
       "      <td>-0.04115</td>\n",
       "      <td>-0.04384</td>\n",
       "      <td>-0.03460</td>\n",
       "      <td>-0.03162</td>\n",
       "      <td>-0.04505</td>\n",
       "      <td>-0.05315</td>\n",
       "    </tr>\n",
       "    <tr>\n",
       "      <th>DrivAge</th>\n",
       "      <td>0.07370</td>\n",
       "      <td>0.08980</td>\n",
       "      <td>0.02204</td>\n",
       "      <td>0.01479</td>\n",
       "      <td>0.01858</td>\n",
       "      <td>0.11869</td>\n",
       "    </tr>\n",
       "    <tr>\n",
       "      <th>HasKmLimit</th>\n",
       "      <td>-0.14541</td>\n",
       "      <td>-0.13162</td>\n",
       "      <td>-0.14966</td>\n",
       "      <td>-0.14626</td>\n",
       "      <td>-0.16073</td>\n",
       "      <td>-0.13959</td>\n",
       "    </tr>\n",
       "    <tr>\n",
       "      <th>BonusMalus</th>\n",
       "      <td>0.19471</td>\n",
       "      <td>0.19543</td>\n",
       "      <td>0.18712</td>\n",
       "      <td>0.20414</td>\n",
       "      <td>0.18814</td>\n",
       "      <td>0.19490</td>\n",
       "    </tr>\n",
       "    <tr>\n",
       "      <th>OutUseNb</th>\n",
       "      <td>0.05678</td>\n",
       "      <td>0.05902</td>\n",
       "      <td>0.06423</td>\n",
       "      <td>0.05430</td>\n",
       "      <td>0.05014</td>\n",
       "      <td>0.05615</td>\n",
       "    </tr>\n",
       "    <tr>\n",
       "      <th>RiskArea</th>\n",
       "      <td>0.03408</td>\n",
       "      <td>0.02608</td>\n",
       "      <td>0.03793</td>\n",
       "      <td>0.02535</td>\n",
       "      <td>0.03656</td>\n",
       "      <td>0.04443</td>\n",
       "    </tr>\n",
       "    <tr>\n",
       "      <th>VehUsage_Private</th>\n",
       "      <td>-0.09494</td>\n",
       "      <td>-0.11539</td>\n",
       "      <td>-0.09149</td>\n",
       "      <td>-0.08540</td>\n",
       "      <td>-0.08199</td>\n",
       "      <td>-0.09520</td>\n",
       "    </tr>\n",
       "    <tr>\n",
       "      <th>VehUsage_Private+trip to office</th>\n",
       "      <td>0.00000</td>\n",
       "      <td>0.00000</td>\n",
       "      <td>0.00000</td>\n",
       "      <td>0.00532</td>\n",
       "      <td>0.00000</td>\n",
       "      <td>0.00000</td>\n",
       "    </tr>\n",
       "    <tr>\n",
       "      <th>VehUsage_Professional</th>\n",
       "      <td>0.10273</td>\n",
       "      <td>0.10300</td>\n",
       "      <td>0.10586</td>\n",
       "      <td>0.09852</td>\n",
       "      <td>0.10490</td>\n",
       "      <td>0.10621</td>\n",
       "    </tr>\n",
       "    <tr>\n",
       "      <th>VehUsage_Professional run</th>\n",
       "      <td>0.05923</td>\n",
       "      <td>0.05756</td>\n",
       "      <td>0.06241</td>\n",
       "      <td>0.05826</td>\n",
       "      <td>0.06309</td>\n",
       "      <td>0.05676</td>\n",
       "    </tr>\n",
       "    <tr>\n",
       "      <th>SocioCateg_CSP1</th>\n",
       "      <td>-0.01723</td>\n",
       "      <td>-0.01773</td>\n",
       "      <td>-0.01367</td>\n",
       "      <td>-0.02492</td>\n",
       "      <td>-0.02179</td>\n",
       "      <td>-0.02894</td>\n",
       "    </tr>\n",
       "    <tr>\n",
       "      <th>SocioCateg_CSP2</th>\n",
       "      <td>-0.04730</td>\n",
       "      <td>-0.05644</td>\n",
       "      <td>-0.04576</td>\n",
       "      <td>-0.05640</td>\n",
       "      <td>-0.06169</td>\n",
       "      <td>-0.04085</td>\n",
       "    </tr>\n",
       "    <tr>\n",
       "      <th>SocioCateg_CSP3</th>\n",
       "      <td>0.03353</td>\n",
       "      <td>0.02251</td>\n",
       "      <td>0.04103</td>\n",
       "      <td>0.03087</td>\n",
       "      <td>0.03192</td>\n",
       "      <td>0.02751</td>\n",
       "    </tr>\n",
       "    <tr>\n",
       "      <th>SocioCateg_CSP4</th>\n",
       "      <td>0.00926</td>\n",
       "      <td>0.00020</td>\n",
       "      <td>-0.00619</td>\n",
       "      <td>0.00613</td>\n",
       "      <td>0.01248</td>\n",
       "      <td>0.00030</td>\n",
       "    </tr>\n",
       "    <tr>\n",
       "      <th>SocioCateg_CSP5</th>\n",
       "      <td>-0.01015</td>\n",
       "      <td>-0.03733</td>\n",
       "      <td>0.00000</td>\n",
       "      <td>-0.02228</td>\n",
       "      <td>-0.01770</td>\n",
       "      <td>-0.03604</td>\n",
       "    </tr>\n",
       "    <tr>\n",
       "      <th>SocioCateg_CSP6</th>\n",
       "      <td>0.03195</td>\n",
       "      <td>0.01996</td>\n",
       "      <td>0.01514</td>\n",
       "      <td>0.03285</td>\n",
       "      <td>0.00933</td>\n",
       "      <td>0.01879</td>\n",
       "    </tr>\n",
       "    <tr>\n",
       "      <th>SocioCateg_CSP7</th>\n",
       "      <td>-0.00413</td>\n",
       "      <td>0.00254</td>\n",
       "      <td>-0.03208</td>\n",
       "      <td>-0.00465</td>\n",
       "      <td>-0.00208</td>\n",
       "      <td>-0.00397</td>\n",
       "    </tr>\n",
       "    <tr>\n",
       "      <th>DrivAgeSq</th>\n",
       "      <td>-0.10728</td>\n",
       "      <td>-0.14023</td>\n",
       "      <td>-0.02301</td>\n",
       "      <td>-0.05321</td>\n",
       "      <td>-0.06926</td>\n",
       "      <td>-0.14671</td>\n",
       "    </tr>\n",
       "  </tbody>\n",
       "</table>\n",
       "</div>"
      ],
      "text/plain": [
       "                                 overall        0        1        2        3  \\\n",
       "Intercept                       -1.28532 -1.27648 -1.28703 -1.28277 -1.29010   \n",
       "LicAge                           0.03093  0.05051  0.00503  0.04367  0.04728   \n",
       "Gender                           0.00187  0.00682 -0.01459  0.00740  0.00491   \n",
       "MariStat                        -0.04115 -0.04384 -0.03460 -0.03162 -0.04505   \n",
       "DrivAge                          0.07370  0.08980  0.02204  0.01479  0.01858   \n",
       "HasKmLimit                      -0.14541 -0.13162 -0.14966 -0.14626 -0.16073   \n",
       "BonusMalus                       0.19471  0.19543  0.18712  0.20414  0.18814   \n",
       "OutUseNb                         0.05678  0.05902  0.06423  0.05430  0.05014   \n",
       "RiskArea                         0.03408  0.02608  0.03793  0.02535  0.03656   \n",
       "VehUsage_Private                -0.09494 -0.11539 -0.09149 -0.08540 -0.08199   \n",
       "VehUsage_Private+trip to office  0.00000  0.00000  0.00000  0.00532  0.00000   \n",
       "VehUsage_Professional            0.10273  0.10300  0.10586  0.09852  0.10490   \n",
       "VehUsage_Professional run        0.05923  0.05756  0.06241  0.05826  0.06309   \n",
       "SocioCateg_CSP1                 -0.01723 -0.01773 -0.01367 -0.02492 -0.02179   \n",
       "SocioCateg_CSP2                 -0.04730 -0.05644 -0.04576 -0.05640 -0.06169   \n",
       "SocioCateg_CSP3                  0.03353  0.02251  0.04103  0.03087  0.03192   \n",
       "SocioCateg_CSP4                  0.00926  0.00020 -0.00619  0.00613  0.01248   \n",
       "SocioCateg_CSP5                 -0.01015 -0.03733  0.00000 -0.02228 -0.01770   \n",
       "SocioCateg_CSP6                  0.03195  0.01996  0.01514  0.03285  0.00933   \n",
       "SocioCateg_CSP7                 -0.00413  0.00254 -0.03208 -0.00465 -0.00208   \n",
       "DrivAgeSq                       -0.10728 -0.14023 -0.02301 -0.05321 -0.06926   \n",
       "\n",
       "                                       4  \n",
       "Intercept                       -1.29206  \n",
       "LicAge                           0.01475  \n",
       "Gender                           0.00536  \n",
       "MariStat                        -0.05315  \n",
       "DrivAge                          0.11869  \n",
       "HasKmLimit                      -0.13959  \n",
       "BonusMalus                       0.19490  \n",
       "OutUseNb                         0.05615  \n",
       "RiskArea                         0.04443  \n",
       "VehUsage_Private                -0.09520  \n",
       "VehUsage_Private+trip to office  0.00000  \n",
       "VehUsage_Professional            0.10621  \n",
       "VehUsage_Professional run        0.05676  \n",
       "SocioCateg_CSP1                 -0.02894  \n",
       "SocioCateg_CSP2                 -0.04085  \n",
       "SocioCateg_CSP3                  0.02751  \n",
       "SocioCateg_CSP4                  0.00030  \n",
       "SocioCateg_CSP5                 -0.03604  \n",
       "SocioCateg_CSP6                  0.01879  \n",
       "SocioCateg_CSP7                 -0.00397  \n",
       "DrivAgeSq                       -0.14671  "
      ]
     },
     "execution_count": 42,
     "metadata": {},
     "output_type": "execute_result"
    }
   ],
   "source": [
    "# Таблица нормированных коэффициентов по всем данным и на кросс-валидации\n",
    "\n",
    "pmodels = {}\n",
    "pmodels['overall'] = glm_poisson.coef_norm()\n",
    "for x in range(len(glm_poisson.cross_validation_models())):\n",
    "    pmodels[x] = glm_poisson.cross_validation_models()[x].coef_norm()\n",
    "pd.DataFrame.from_dict(pmodels).round(5)"
   ]
  },
  {
   "cell_type": "code",
   "execution_count": 49,
   "metadata": {
    "colab": {
     "base_uri": "https://localhost:8080/",
     "height": 68
    },
    "colab_type": "code",
    "id": "RiHV0aTKHjdK",
    "outputId": "d8e96d0e-a2ca-4ede-c0ef-845d33a3e1f9"
   },
   "outputs": [
    {
     "name": "stdout",
     "output_type": "stream",
     "text": [
      "glm prediction progress: |████████████████████████████████████████████████| 100%\n",
      "glm prediction progress: |████████████████████████████████████████████████| 100%\n",
      "glm prediction progress: |████████████████████████████████████████████████| 100%\n"
     ]
    }
   ],
   "source": [
    "# Построение прогнозных значений для обучающей, валидационной и тестовой выборок\n",
    "\n",
    "c_train_pred = glm_poisson.predict(h2o_train_c).as_data_frame()\n",
    "c_valid_pred = glm_poisson.predict(h2o_valid_c).as_data_frame()\n",
    "c_test_pred = glm_poisson.predict(h2o_test_c).as_data_frame()"
   ]
  },
  {
   "cell_type": "code",
   "execution_count": 0,
   "metadata": {
    "colab": {},
    "colab_type": "code",
    "id": "BL8JJbnVTrY5"
   },
   "outputs": [],
   "source": [
    "# Сохранение обученной модели\n",
    "\n",
    "model_glm_poisson = h2o.save_model(model=glm_poisson, path=\"/content/drive/My Drive/Colab Notebooks/\", force=True)"
   ]
  },
  {
   "cell_type": "code",
   "execution_count": 95,
   "metadata": {
    "colab": {
     "base_uri": "https://localhost:8080/",
     "height": 34
    },
    "colab_type": "code",
    "id": "bsXU4eF4T5cX",
    "outputId": "f4999f54-3277-4be7-d17f-9e804e8968e5"
   },
   "outputs": [
    {
     "data": {
      "text/plain": [
       "'/content/drive/My Drive/Colab Notebooks/GLM_model_python_1590418415168_3'"
      ]
     },
     "execution_count": 95,
     "metadata": {
      "tags": []
     },
     "output_type": "execute_result"
    }
   ],
   "source": [
    "model_glm_poisson"
   ]
  },
  {
   "cell_type": "markdown",
   "metadata": {
    "colab_type": "text",
    "id": "8nmnj56EM9gK"
   },
   "source": [
    "### Построение GLM для среднего убытка"
   ]
  },
  {
   "cell_type": "code",
   "execution_count": 50,
   "metadata": {
    "colab": {
     "base_uri": "https://localhost:8080/",
     "height": 68
    },
    "colab_type": "code",
    "id": "9u4TIE54NAeo",
    "outputId": "6f500490-d27f-419f-998c-342856700123"
   },
   "outputs": [
    {
     "name": "stdout",
     "output_type": "stream",
     "text": [
      "Parse progress: |█████████████████████████████████████████████████████████| 100%\n",
      "Parse progress: |█████████████████████████████████████████████████████████| 100%\n",
      "Parse progress: |█████████████████████████████████████████████████████████| 100%\n"
     ]
    }
   ],
   "source": [
    "# Преобразование в H2O-Frame\n",
    "\n",
    "h2o_train_ac = h2o.H2OFrame(pd.concat([x_train_ac, y_train_ac], axis=1))\n",
    "h2o_valid_ac = h2o.H2OFrame(pd.concat([x_valid_ac, y_valid_ac], axis=1))\n",
    "h2o_test_ac = h2o.H2OFrame(pd.concat([x_test_ac, y_test_ac], axis=1))"
   ]
  },
  {
   "cell_type": "code",
   "execution_count": 63,
   "metadata": {
    "colab": {
     "base_uri": "https://localhost:8080/",
     "height": 34
    },
    "colab_type": "code",
    "id": "O4ZJ3o25EKnP",
    "outputId": "4579ebaa-1e25-4cba-8702-4ba58a08a46b"
   },
   "outputs": [
    {
     "name": "stdout",
     "output_type": "stream",
     "text": [
      "glm Model Build progress: |███████████████████████████████████████████████| 100%\n"
     ]
    }
   ],
   "source": [
    "# Инициализируем и обучим GLM модель c кросс-валидацией\n",
    "\n",
    "glm_gamma = H2OGeneralizedLinearEstimator(family = \"gamma\", link = \"Log\", nfolds=5, seed=1)\n",
    "glm_gamma.train(y=\"AvgClaim\", x = h2o_train_ac.names[1:-1], training_frame = h2o_train_ac, validation_frame = h2o_valid_ac, weights_column = \"Exposure\")"
   ]
  },
  {
   "cell_type": "code",
   "execution_count": 64,
   "metadata": {
    "colab": {
     "base_uri": "https://localhost:8080/",
     "height": 131
    },
    "colab_type": "code",
    "id": "tAC4dIdJEKXl",
    "outputId": "81afb1ef-1594-489e-db07-cf133734e352"
   },
   "outputs": [
    {
     "name": "stdout",
     "output_type": "stream",
     "text": [
      "\n",
      "GLM Model: summary\n"
     ]
    },
    {
     "data": {
      "text/html": [
       "<div>\n",
       "<style scoped>\n",
       "    .dataframe tbody tr th:only-of-type {\n",
       "        vertical-align: middle;\n",
       "    }\n",
       "\n",
       "    .dataframe tbody tr th {\n",
       "        vertical-align: top;\n",
       "    }\n",
       "\n",
       "    .dataframe thead th {\n",
       "        text-align: right;\n",
       "    }\n",
       "</style>\n",
       "<table border=\"1\" class=\"dataframe\">\n",
       "  <thead>\n",
       "    <tr style=\"text-align: right;\">\n",
       "      <th></th>\n",
       "      <th></th>\n",
       "      <th>family</th>\n",
       "      <th>link</th>\n",
       "      <th>regularization</th>\n",
       "      <th>number_of_predictors_total</th>\n",
       "      <th>number_of_active_predictors</th>\n",
       "      <th>number_of_iterations</th>\n",
       "      <th>training_frame</th>\n",
       "    </tr>\n",
       "  </thead>\n",
       "  <tbody>\n",
       "    <tr>\n",
       "      <th>0</th>\n",
       "      <td></td>\n",
       "      <td>gamma</td>\n",
       "      <td>log</td>\n",
       "      <td>Elastic Net (alpha = 0.5, lambda = 1.784E-4 )</td>\n",
       "      <td>20</td>\n",
       "      <td>18</td>\n",
       "      <td>3</td>\n",
       "      <td>Key_Frame__upload_a916dd76b2f4011ffa32079217964527.hex</td>\n",
       "    </tr>\n",
       "  </tbody>\n",
       "</table>\n",
       "</div>"
      ],
      "text/plain": [
       "    family link                                 regularization  \\\n",
       "0    gamma  log  Elastic Net (alpha = 0.5, lambda = 1.784E-4 )   \n",
       "\n",
       "   number_of_predictors_total number_of_active_predictors  \\\n",
       "0                          20                          18   \n",
       "\n",
       "   number_of_iterations  \\\n",
       "0                     3   \n",
       "\n",
       "                                           training_frame  \n",
       "0  Key_Frame__upload_a916dd76b2f4011ffa32079217964527.hex  "
      ]
     },
     "metadata": {},
     "output_type": "display_data"
    },
    {
     "data": {
      "text/plain": []
     },
     "execution_count": 64,
     "metadata": {},
     "output_type": "execute_result"
    }
   ],
   "source": [
    "# Параметры модели: распределение, функция связи, гиперпараметры регуляризации, количество использованных объясняющих переменных\n",
    "\n",
    "glm_gamma.summary()"
   ]
  },
  {
   "cell_type": "code",
   "execution_count": 65,
   "metadata": {
    "colab": {
     "base_uri": "https://localhost:8080/",
     "height": 295
    },
    "colab_type": "code",
    "id": "NfRbZGBoE7vP",
    "outputId": "abb1b9a8-7276-4b19-dae8-133172ee5eba"
   },
   "outputs": [
    {
     "data": {
      "text/html": [
       "<div>\n",
       "<style scoped>\n",
       "    .dataframe tbody tr th:only-of-type {\n",
       "        vertical-align: middle;\n",
       "    }\n",
       "\n",
       "    .dataframe tbody tr th {\n",
       "        vertical-align: top;\n",
       "    }\n",
       "\n",
       "    .dataframe thead th {\n",
       "        text-align: right;\n",
       "    }\n",
       "</style>\n",
       "<table border=\"1\" class=\"dataframe\">\n",
       "  <thead>\n",
       "    <tr style=\"text-align: right;\">\n",
       "      <th></th>\n",
       "      <th></th>\n",
       "      <th>mean</th>\n",
       "      <th>sd</th>\n",
       "      <th>cv_1_valid</th>\n",
       "      <th>cv_2_valid</th>\n",
       "      <th>cv_3_valid</th>\n",
       "      <th>cv_4_valid</th>\n",
       "      <th>cv_5_valid</th>\n",
       "    </tr>\n",
       "  </thead>\n",
       "  <tbody>\n",
       "    <tr>\n",
       "      <th>0</th>\n",
       "      <td>mae</td>\n",
       "      <td>1043.0499</td>\n",
       "      <td>58.507977</td>\n",
       "      <td>1112.4998</td>\n",
       "      <td>969.8479</td>\n",
       "      <td>1000.22974</td>\n",
       "      <td>1083.5531</td>\n",
       "      <td>1049.119</td>\n",
       "    </tr>\n",
       "    <tr>\n",
       "      <th>1</th>\n",
       "      <td>mean_residual_deviance</td>\n",
       "      <td>1.9568329</td>\n",
       "      <td>0.094328985</td>\n",
       "      <td>2.0829785</td>\n",
       "      <td>1.8252732</td>\n",
       "      <td>1.9192655</td>\n",
       "      <td>1.9825748</td>\n",
       "      <td>1.9740725</td>\n",
       "    </tr>\n",
       "    <tr>\n",
       "      <th>2</th>\n",
       "      <td>mse</td>\n",
       "      <td>7239747.0</td>\n",
       "      <td>5846798.5</td>\n",
       "      <td>8463474.0</td>\n",
       "      <td>2923134.2</td>\n",
       "      <td>3720895.2</td>\n",
       "      <td>1.6963158E7</td>\n",
       "      <td>4128072.2</td>\n",
       "    </tr>\n",
       "    <tr>\n",
       "      <th>3</th>\n",
       "      <td>null_deviance</td>\n",
       "      <td>1788.2152</td>\n",
       "      <td>160.08798</td>\n",
       "      <td>2017.513</td>\n",
       "      <td>1702.9558</td>\n",
       "      <td>1754.8896</td>\n",
       "      <td>1865.9503</td>\n",
       "      <td>1599.7671</td>\n",
       "    </tr>\n",
       "    <tr>\n",
       "      <th>4</th>\n",
       "      <td>r2</td>\n",
       "      <td>-0.0030137121</td>\n",
       "      <td>0.0071894703</td>\n",
       "      <td>0.0038090625</td>\n",
       "      <td>5.233814E-4</td>\n",
       "      <td>-0.007169165</td>\n",
       "      <td>0.0013398654</td>\n",
       "      <td>-0.013571705</td>\n",
       "    </tr>\n",
       "    <tr>\n",
       "      <th>5</th>\n",
       "      <td>residual_deviance</td>\n",
       "      <td>1787.243</td>\n",
       "      <td>130.0946</td>\n",
       "      <td>1980.0127</td>\n",
       "      <td>1688.279</td>\n",
       "      <td>1771.4187</td>\n",
       "      <td>1841.6693</td>\n",
       "      <td>1654.8353</td>\n",
       "    </tr>\n",
       "    <tr>\n",
       "      <th>6</th>\n",
       "      <td>rmse</td>\n",
       "      <td>2539.6572</td>\n",
       "      <td>993.65985</td>\n",
       "      <td>2909.205</td>\n",
       "      <td>1709.7177</td>\n",
       "      <td>1928.9623</td>\n",
       "      <td>4118.6353</td>\n",
       "      <td>2031.7659</td>\n",
       "    </tr>\n",
       "    <tr>\n",
       "      <th>7</th>\n",
       "      <td>rmsle</td>\n",
       "      <td>1.7133098</td>\n",
       "      <td>0.029241526</td>\n",
       "      <td>1.7202475</td>\n",
       "      <td>1.7253307</td>\n",
       "      <td>1.7522553</td>\n",
       "      <td>1.6885078</td>\n",
       "      <td>1.6802078</td>\n",
       "    </tr>\n",
       "  </tbody>\n",
       "</table>\n",
       "</div>"
      ],
      "text/plain": [
       "                                    mean            sd    cv_1_valid  \\\n",
       "0                     mae      1043.0499     58.507977     1112.4998   \n",
       "1  mean_residual_deviance      1.9568329   0.094328985     2.0829785   \n",
       "2                     mse      7239747.0     5846798.5     8463474.0   \n",
       "3           null_deviance      1788.2152     160.08798      2017.513   \n",
       "4                      r2  -0.0030137121  0.0071894703  0.0038090625   \n",
       "5       residual_deviance       1787.243      130.0946     1980.0127   \n",
       "6                    rmse      2539.6572     993.65985      2909.205   \n",
       "7                   rmsle      1.7133098   0.029241526     1.7202475   \n",
       "\n",
       "    cv_2_valid    cv_3_valid    cv_4_valid    cv_5_valid  \n",
       "0     969.8479    1000.22974     1083.5531      1049.119  \n",
       "1    1.8252732     1.9192655     1.9825748     1.9740725  \n",
       "2    2923134.2     3720895.2   1.6963158E7     4128072.2  \n",
       "3    1702.9558     1754.8896     1865.9503     1599.7671  \n",
       "4  5.233814E-4  -0.007169165  0.0013398654  -0.013571705  \n",
       "5     1688.279     1771.4187     1841.6693     1654.8353  \n",
       "6    1709.7177     1928.9623     4118.6353     2031.7659  \n",
       "7    1.7253307     1.7522553     1.6885078     1.6802078  "
      ]
     },
     "execution_count": 65,
     "metadata": {},
     "output_type": "execute_result"
    }
   ],
   "source": [
    "# Метрики качества модели - по всем данным и на кросс-валидации\n",
    "\n",
    "glm_gamma.cross_validation_metrics_summary().as_data_frame()"
   ]
  },
  {
   "cell_type": "code",
   "execution_count": 66,
   "metadata": {
    "colab": {
     "base_uri": "https://localhost:8080/",
     "height": 696
    },
    "colab_type": "code",
    "id": "uHZ93uk_E7nZ",
    "outputId": "2ea029d1-d92d-4dd7-f5f1-80227fe8d58f"
   },
   "outputs": [
    {
     "data": {
      "text/html": [
       "<div>\n",
       "<style scoped>\n",
       "    .dataframe tbody tr th:only-of-type {\n",
       "        vertical-align: middle;\n",
       "    }\n",
       "\n",
       "    .dataframe tbody tr th {\n",
       "        vertical-align: top;\n",
       "    }\n",
       "\n",
       "    .dataframe thead th {\n",
       "        text-align: right;\n",
       "    }\n",
       "</style>\n",
       "<table border=\"1\" class=\"dataframe\">\n",
       "  <thead>\n",
       "    <tr style=\"text-align: right;\">\n",
       "      <th></th>\n",
       "      <th>names</th>\n",
       "      <th>coefficients</th>\n",
       "      <th>standardized_coefficients</th>\n",
       "    </tr>\n",
       "  </thead>\n",
       "  <tbody>\n",
       "    <tr>\n",
       "      <th>0</th>\n",
       "      <td>Intercept</td>\n",
       "      <td>7.447459</td>\n",
       "      <td>6.923914</td>\n",
       "    </tr>\n",
       "    <tr>\n",
       "      <th>1</th>\n",
       "      <td>LicAge</td>\n",
       "      <td>-0.000361</td>\n",
       "      <td>-0.057896</td>\n",
       "    </tr>\n",
       "    <tr>\n",
       "      <th>2</th>\n",
       "      <td>Gender</td>\n",
       "      <td>-0.044813</td>\n",
       "      <td>-0.021696</td>\n",
       "    </tr>\n",
       "    <tr>\n",
       "      <th>3</th>\n",
       "      <td>MariStat</td>\n",
       "      <td>0.152243</td>\n",
       "      <td>0.056025</td>\n",
       "    </tr>\n",
       "    <tr>\n",
       "      <th>4</th>\n",
       "      <td>DrivAge</td>\n",
       "      <td>-0.026294</td>\n",
       "      <td>-0.389649</td>\n",
       "    </tr>\n",
       "    <tr>\n",
       "      <th>5</th>\n",
       "      <td>HasKmLimit</td>\n",
       "      <td>-0.086212</td>\n",
       "      <td>-0.021160</td>\n",
       "    </tr>\n",
       "    <tr>\n",
       "      <th>6</th>\n",
       "      <td>BonusMalus</td>\n",
       "      <td>-0.003733</td>\n",
       "      <td>-0.062010</td>\n",
       "    </tr>\n",
       "    <tr>\n",
       "      <th>7</th>\n",
       "      <td>OutUseNb</td>\n",
       "      <td>0.005180</td>\n",
       "      <td>0.003776</td>\n",
       "    </tr>\n",
       "    <tr>\n",
       "      <th>8</th>\n",
       "      <td>RiskArea</td>\n",
       "      <td>0.040690</td>\n",
       "      <td>0.091382</td>\n",
       "    </tr>\n",
       "    <tr>\n",
       "      <th>9</th>\n",
       "      <td>VehUsage_Private</td>\n",
       "      <td>0.044360</td>\n",
       "      <td>0.020112</td>\n",
       "    </tr>\n",
       "    <tr>\n",
       "      <th>10</th>\n",
       "      <td>VehUsage_Private+trip to office</td>\n",
       "      <td>0.000000</td>\n",
       "      <td>0.000000</td>\n",
       "    </tr>\n",
       "    <tr>\n",
       "      <th>11</th>\n",
       "      <td>VehUsage_Professional</td>\n",
       "      <td>-0.001817</td>\n",
       "      <td>-0.000670</td>\n",
       "    </tr>\n",
       "    <tr>\n",
       "      <th>12</th>\n",
       "      <td>VehUsage_Professional run</td>\n",
       "      <td>-0.252844</td>\n",
       "      <td>-0.039146</td>\n",
       "    </tr>\n",
       "    <tr>\n",
       "      <th>13</th>\n",
       "      <td>SocioCateg_CSP1</td>\n",
       "      <td>-0.032338</td>\n",
       "      <td>-0.005088</td>\n",
       "    </tr>\n",
       "    <tr>\n",
       "      <th>14</th>\n",
       "      <td>SocioCateg_CSP2</td>\n",
       "      <td>-0.105878</td>\n",
       "      <td>-0.018323</td>\n",
       "    </tr>\n",
       "    <tr>\n",
       "      <th>15</th>\n",
       "      <td>SocioCateg_CSP3</td>\n",
       "      <td>0.083177</td>\n",
       "      <td>0.008488</td>\n",
       "    </tr>\n",
       "    <tr>\n",
       "      <th>16</th>\n",
       "      <td>SocioCateg_CSP4</td>\n",
       "      <td>-0.093999</td>\n",
       "      <td>-0.026331</td>\n",
       "    </tr>\n",
       "    <tr>\n",
       "      <th>17</th>\n",
       "      <td>SocioCateg_CSP5</td>\n",
       "      <td>0.035310</td>\n",
       "      <td>0.016781</td>\n",
       "    </tr>\n",
       "    <tr>\n",
       "      <th>18</th>\n",
       "      <td>SocioCateg_CSP6</td>\n",
       "      <td>0.000000</td>\n",
       "      <td>0.000000</td>\n",
       "    </tr>\n",
       "    <tr>\n",
       "      <th>19</th>\n",
       "      <td>SocioCateg_CSP7</td>\n",
       "      <td>-1.331436</td>\n",
       "      <td>-0.014968</td>\n",
       "    </tr>\n",
       "    <tr>\n",
       "      <th>20</th>\n",
       "      <td>DrivAgeSq</td>\n",
       "      <td>0.000291</td>\n",
       "      <td>0.435502</td>\n",
       "    </tr>\n",
       "  </tbody>\n",
       "</table>\n",
       "</div>"
      ],
      "text/plain": [
       "                              names  coefficients  standardized_coefficients\n",
       "0                         Intercept      7.447459                   6.923914\n",
       "1                            LicAge     -0.000361                  -0.057896\n",
       "2                            Gender     -0.044813                  -0.021696\n",
       "3                          MariStat      0.152243                   0.056025\n",
       "4                           DrivAge     -0.026294                  -0.389649\n",
       "5                        HasKmLimit     -0.086212                  -0.021160\n",
       "6                        BonusMalus     -0.003733                  -0.062010\n",
       "7                          OutUseNb      0.005180                   0.003776\n",
       "8                          RiskArea      0.040690                   0.091382\n",
       "9                  VehUsage_Private      0.044360                   0.020112\n",
       "10  VehUsage_Private+trip to office      0.000000                   0.000000\n",
       "11            VehUsage_Professional     -0.001817                  -0.000670\n",
       "12        VehUsage_Professional run     -0.252844                  -0.039146\n",
       "13                  SocioCateg_CSP1     -0.032338                  -0.005088\n",
       "14                  SocioCateg_CSP2     -0.105878                  -0.018323\n",
       "15                  SocioCateg_CSP3      0.083177                   0.008488\n",
       "16                  SocioCateg_CSP4     -0.093999                  -0.026331\n",
       "17                  SocioCateg_CSP5      0.035310                   0.016781\n",
       "18                  SocioCateg_CSP6      0.000000                   0.000000\n",
       "19                  SocioCateg_CSP7     -1.331436                  -0.014968\n",
       "20                        DrivAgeSq      0.000291                   0.435502"
      ]
     },
     "execution_count": 66,
     "metadata": {},
     "output_type": "execute_result"
    }
   ],
   "source": [
    "# Таблица коэффициентов модели (в зависимости от модели могут выводиться также стандартная ошибка, z-score и p-value)\n",
    "\n",
    "glm_gamma._model_json['output']['coefficients_table'].as_data_frame()"
   ]
  },
  {
   "cell_type": "code",
   "execution_count": 67,
   "metadata": {
    "colab": {
     "base_uri": "https://localhost:8080/",
     "height": 696
    },
    "colab_type": "code",
    "id": "DFa-sS1ME7eq",
    "outputId": "09f2b4da-1ad3-4d26-8c1e-1b931c44ee36"
   },
   "outputs": [
    {
     "data": {
      "text/html": [
       "<div>\n",
       "<style scoped>\n",
       "    .dataframe tbody tr th:only-of-type {\n",
       "        vertical-align: middle;\n",
       "    }\n",
       "\n",
       "    .dataframe tbody tr th {\n",
       "        vertical-align: top;\n",
       "    }\n",
       "\n",
       "    .dataframe thead th {\n",
       "        text-align: right;\n",
       "    }\n",
       "</style>\n",
       "<table border=\"1\" class=\"dataframe\">\n",
       "  <thead>\n",
       "    <tr style=\"text-align: right;\">\n",
       "      <th></th>\n",
       "      <th>overall</th>\n",
       "      <th>0</th>\n",
       "      <th>1</th>\n",
       "      <th>2</th>\n",
       "      <th>3</th>\n",
       "      <th>4</th>\n",
       "    </tr>\n",
       "  </thead>\n",
       "  <tbody>\n",
       "    <tr>\n",
       "      <th>Intercept</th>\n",
       "      <td>6.92391</td>\n",
       "      <td>6.90487</td>\n",
       "      <td>6.94864</td>\n",
       "      <td>6.93153</td>\n",
       "      <td>6.91456</td>\n",
       "      <td>6.91334</td>\n",
       "    </tr>\n",
       "    <tr>\n",
       "      <th>LicAge</th>\n",
       "      <td>-0.05790</td>\n",
       "      <td>-0.08075</td>\n",
       "      <td>-0.06320</td>\n",
       "      <td>-0.05406</td>\n",
       "      <td>-0.01771</td>\n",
       "      <td>-0.07768</td>\n",
       "    </tr>\n",
       "    <tr>\n",
       "      <th>Gender</th>\n",
       "      <td>-0.02170</td>\n",
       "      <td>-0.01927</td>\n",
       "      <td>-0.03257</td>\n",
       "      <td>-0.01825</td>\n",
       "      <td>-0.01146</td>\n",
       "      <td>-0.02883</td>\n",
       "    </tr>\n",
       "    <tr>\n",
       "      <th>MariStat</th>\n",
       "      <td>0.05603</td>\n",
       "      <td>0.03101</td>\n",
       "      <td>0.05944</td>\n",
       "      <td>0.07246</td>\n",
       "      <td>0.04409</td>\n",
       "      <td>0.06882</td>\n",
       "    </tr>\n",
       "    <tr>\n",
       "      <th>DrivAge</th>\n",
       "      <td>-0.38965</td>\n",
       "      <td>-0.34205</td>\n",
       "      <td>-0.26257</td>\n",
       "      <td>-0.30759</td>\n",
       "      <td>-0.47179</td>\n",
       "      <td>-0.53354</td>\n",
       "    </tr>\n",
       "    <tr>\n",
       "      <th>HasKmLimit</th>\n",
       "      <td>-0.02116</td>\n",
       "      <td>-0.00624</td>\n",
       "      <td>-0.02490</td>\n",
       "      <td>-0.02471</td>\n",
       "      <td>-0.01888</td>\n",
       "      <td>-0.02929</td>\n",
       "    </tr>\n",
       "    <tr>\n",
       "      <th>BonusMalus</th>\n",
       "      <td>-0.06201</td>\n",
       "      <td>-0.06301</td>\n",
       "      <td>-0.06598</td>\n",
       "      <td>-0.05697</td>\n",
       "      <td>-0.05303</td>\n",
       "      <td>-0.06538</td>\n",
       "    </tr>\n",
       "    <tr>\n",
       "      <th>OutUseNb</th>\n",
       "      <td>0.00378</td>\n",
       "      <td>0.01396</td>\n",
       "      <td>0.00620</td>\n",
       "      <td>-0.02350</td>\n",
       "      <td>0.01324</td>\n",
       "      <td>0.00988</td>\n",
       "    </tr>\n",
       "    <tr>\n",
       "      <th>RiskArea</th>\n",
       "      <td>0.09138</td>\n",
       "      <td>0.06158</td>\n",
       "      <td>0.08602</td>\n",
       "      <td>0.11067</td>\n",
       "      <td>0.08110</td>\n",
       "      <td>0.11549</td>\n",
       "    </tr>\n",
       "    <tr>\n",
       "      <th>VehUsage_Private</th>\n",
       "      <td>0.02011</td>\n",
       "      <td>0.01563</td>\n",
       "      <td>0.00000</td>\n",
       "      <td>0.04333</td>\n",
       "      <td>0.02011</td>\n",
       "      <td>0.02643</td>\n",
       "    </tr>\n",
       "    <tr>\n",
       "      <th>VehUsage_Private+trip to office</th>\n",
       "      <td>0.00000</td>\n",
       "      <td>-0.00820</td>\n",
       "      <td>0.01562</td>\n",
       "      <td>-0.00235</td>\n",
       "      <td>0.00000</td>\n",
       "      <td>-0.00071</td>\n",
       "    </tr>\n",
       "    <tr>\n",
       "      <th>VehUsage_Professional</th>\n",
       "      <td>-0.00067</td>\n",
       "      <td>0.00000</td>\n",
       "      <td>-0.00229</td>\n",
       "      <td>0.00000</td>\n",
       "      <td>0.00000</td>\n",
       "      <td>0.00000</td>\n",
       "    </tr>\n",
       "    <tr>\n",
       "      <th>VehUsage_Professional run</th>\n",
       "      <td>-0.03915</td>\n",
       "      <td>-0.03122</td>\n",
       "      <td>-0.04532</td>\n",
       "      <td>-0.05567</td>\n",
       "      <td>-0.03605</td>\n",
       "      <td>-0.02702</td>\n",
       "    </tr>\n",
       "    <tr>\n",
       "      <th>SocioCateg_CSP1</th>\n",
       "      <td>-0.00509</td>\n",
       "      <td>0.00299</td>\n",
       "      <td>-0.00841</td>\n",
       "      <td>0.00286</td>\n",
       "      <td>0.00209</td>\n",
       "      <td>-0.03310</td>\n",
       "    </tr>\n",
       "    <tr>\n",
       "      <th>SocioCateg_CSP2</th>\n",
       "      <td>-0.01832</td>\n",
       "      <td>-0.00847</td>\n",
       "      <td>-0.02463</td>\n",
       "      <td>-0.02119</td>\n",
       "      <td>-0.00297</td>\n",
       "      <td>-0.04285</td>\n",
       "    </tr>\n",
       "    <tr>\n",
       "      <th>SocioCateg_CSP3</th>\n",
       "      <td>0.00849</td>\n",
       "      <td>0.01344</td>\n",
       "      <td>-0.02072</td>\n",
       "      <td>0.00870</td>\n",
       "      <td>0.00969</td>\n",
       "      <td>0.02394</td>\n",
       "    </tr>\n",
       "    <tr>\n",
       "      <th>SocioCateg_CSP4</th>\n",
       "      <td>-0.02633</td>\n",
       "      <td>-0.03955</td>\n",
       "      <td>-0.04219</td>\n",
       "      <td>-0.01527</td>\n",
       "      <td>-0.01909</td>\n",
       "      <td>-0.02303</td>\n",
       "    </tr>\n",
       "    <tr>\n",
       "      <th>SocioCateg_CSP5</th>\n",
       "      <td>0.01678</td>\n",
       "      <td>0.00695</td>\n",
       "      <td>0.00000</td>\n",
       "      <td>0.02017</td>\n",
       "      <td>0.00944</td>\n",
       "      <td>0.03198</td>\n",
       "    </tr>\n",
       "    <tr>\n",
       "      <th>SocioCateg_CSP6</th>\n",
       "      <td>0.00000</td>\n",
       "      <td>0.00000</td>\n",
       "      <td>0.00013</td>\n",
       "      <td>-0.00216</td>\n",
       "      <td>-0.00749</td>\n",
       "      <td>0.00000</td>\n",
       "    </tr>\n",
       "    <tr>\n",
       "      <th>SocioCateg_CSP7</th>\n",
       "      <td>-0.01497</td>\n",
       "      <td>-0.01853</td>\n",
       "      <td>0.00000</td>\n",
       "      <td>-0.01414</td>\n",
       "      <td>-0.01701</td>\n",
       "      <td>-0.01719</td>\n",
       "    </tr>\n",
       "    <tr>\n",
       "      <th>DrivAgeSq</th>\n",
       "      <td>0.43550</td>\n",
       "      <td>0.37600</td>\n",
       "      <td>0.31487</td>\n",
       "      <td>0.35019</td>\n",
       "      <td>0.50647</td>\n",
       "      <td>0.60282</td>\n",
       "    </tr>\n",
       "  </tbody>\n",
       "</table>\n",
       "</div>"
      ],
      "text/plain": [
       "                                 overall        0        1        2        3  \\\n",
       "Intercept                        6.92391  6.90487  6.94864  6.93153  6.91456   \n",
       "LicAge                          -0.05790 -0.08075 -0.06320 -0.05406 -0.01771   \n",
       "Gender                          -0.02170 -0.01927 -0.03257 -0.01825 -0.01146   \n",
       "MariStat                         0.05603  0.03101  0.05944  0.07246  0.04409   \n",
       "DrivAge                         -0.38965 -0.34205 -0.26257 -0.30759 -0.47179   \n",
       "HasKmLimit                      -0.02116 -0.00624 -0.02490 -0.02471 -0.01888   \n",
       "BonusMalus                      -0.06201 -0.06301 -0.06598 -0.05697 -0.05303   \n",
       "OutUseNb                         0.00378  0.01396  0.00620 -0.02350  0.01324   \n",
       "RiskArea                         0.09138  0.06158  0.08602  0.11067  0.08110   \n",
       "VehUsage_Private                 0.02011  0.01563  0.00000  0.04333  0.02011   \n",
       "VehUsage_Private+trip to office  0.00000 -0.00820  0.01562 -0.00235  0.00000   \n",
       "VehUsage_Professional           -0.00067  0.00000 -0.00229  0.00000  0.00000   \n",
       "VehUsage_Professional run       -0.03915 -0.03122 -0.04532 -0.05567 -0.03605   \n",
       "SocioCateg_CSP1                 -0.00509  0.00299 -0.00841  0.00286  0.00209   \n",
       "SocioCateg_CSP2                 -0.01832 -0.00847 -0.02463 -0.02119 -0.00297   \n",
       "SocioCateg_CSP3                  0.00849  0.01344 -0.02072  0.00870  0.00969   \n",
       "SocioCateg_CSP4                 -0.02633 -0.03955 -0.04219 -0.01527 -0.01909   \n",
       "SocioCateg_CSP5                  0.01678  0.00695  0.00000  0.02017  0.00944   \n",
       "SocioCateg_CSP6                  0.00000  0.00000  0.00013 -0.00216 -0.00749   \n",
       "SocioCateg_CSP7                 -0.01497 -0.01853  0.00000 -0.01414 -0.01701   \n",
       "DrivAgeSq                        0.43550  0.37600  0.31487  0.35019  0.50647   \n",
       "\n",
       "                                       4  \n",
       "Intercept                        6.91334  \n",
       "LicAge                          -0.07768  \n",
       "Gender                          -0.02883  \n",
       "MariStat                         0.06882  \n",
       "DrivAge                         -0.53354  \n",
       "HasKmLimit                      -0.02929  \n",
       "BonusMalus                      -0.06538  \n",
       "OutUseNb                         0.00988  \n",
       "RiskArea                         0.11549  \n",
       "VehUsage_Private                 0.02643  \n",
       "VehUsage_Private+trip to office -0.00071  \n",
       "VehUsage_Professional            0.00000  \n",
       "VehUsage_Professional run       -0.02702  \n",
       "SocioCateg_CSP1                 -0.03310  \n",
       "SocioCateg_CSP2                 -0.04285  \n",
       "SocioCateg_CSP3                  0.02394  \n",
       "SocioCateg_CSP4                 -0.02303  \n",
       "SocioCateg_CSP5                  0.03198  \n",
       "SocioCateg_CSP6                  0.00000  \n",
       "SocioCateg_CSP7                 -0.01719  \n",
       "DrivAgeSq                        0.60282  "
      ]
     },
     "execution_count": 67,
     "metadata": {},
     "output_type": "execute_result"
    }
   ],
   "source": [
    "# Таблица нормированных коэффициентов по всем данным и на кросс-валидации\n",
    "\n",
    "pmodels = {}\n",
    "pmodels['overall'] = glm_gamma.coef_norm()\n",
    "for x in range(len(glm_gamma.cross_validation_models())):\n",
    "    pmodels[x] = glm_gamma.cross_validation_models()[x].coef_norm()\n",
    "pd.DataFrame.from_dict(pmodels).round(5)"
   ]
  },
  {
   "cell_type": "code",
   "execution_count": 68,
   "metadata": {
    "colab": {
     "base_uri": "https://localhost:8080/",
     "height": 68
    },
    "colab_type": "code",
    "id": "CoBse4X5_no7",
    "outputId": "1f3ba7a7-3db0-48f1-eb75-a277d6c9528f"
   },
   "outputs": [
    {
     "name": "stdout",
     "output_type": "stream",
     "text": [
      "glm prediction progress: |████████████████████████████████████████████████| 100%\n",
      "glm prediction progress: |████████████████████████████████████████████████| 100%\n",
      "glm prediction progress: |████████████████████████████████████████████████| 100%\n"
     ]
    }
   ],
   "source": [
    "# Построение прогнозных значений для обучающей, валидационной и тестовой выборок\n",
    "\n",
    "ac_train_pred = glm_gamma.predict(h2o_train_ac).as_data_frame()\n",
    "ac_valid_pred = glm_gamma.predict(h2o_valid_ac).as_data_frame()\n",
    "ac_test_pred = glm_gamma.predict(h2o_test_ac).as_data_frame()"
   ]
  },
  {
   "cell_type": "code",
   "execution_count": 0,
   "metadata": {
    "colab": {},
    "colab_type": "code",
    "id": "3Brr0O0zUKKW"
   },
   "outputs": [],
   "source": [
    "# Сохранение обученной модели\n",
    "\n",
    "model_glm_gamma = h2o.save_model(model=glm_gamma, path=\"/content/drive/My Drive/Colab Notebooks/\", force=True)"
   ]
  },
  {
   "cell_type": "code",
   "execution_count": 104,
   "metadata": {
    "colab": {
     "base_uri": "https://localhost:8080/",
     "height": 34
    },
    "colab_type": "code",
    "id": "VouX3Z7FUKIN",
    "outputId": "65c21f3c-22a8-4e0f-e079-59f985f36035"
   },
   "outputs": [
    {
     "data": {
      "text/plain": [
       "'/content/drive/My Drive/Colab Notebooks/GLM_model_python_1590418415168_4'"
      ]
     },
     "execution_count": 104,
     "metadata": {
      "tags": []
     },
     "output_type": "execute_result"
    }
   ],
   "source": [
    "model_glm_gamma"
   ]
  },
  {
   "cell_type": "markdown",
   "metadata": {
    "colab_type": "text",
    "id": "A84l-r2aIxfK"
   },
   "source": [
    "### Использование GLM моделей"
   ]
  },
  {
   "cell_type": "code",
   "execution_count": 69,
   "metadata": {
    "colab": {
     "base_uri": "https://localhost:8080/",
     "height": 34
    },
    "colab_type": "code",
    "id": "-bkMpTD6Gcra",
    "outputId": "7cc4355b-e0ae-4bce-9317-b75f9aba56b3"
   },
   "outputs": [
    {
     "name": "stdout",
     "output_type": "stream",
     "text": [
      "Parse progress: |█████████████████████████████████████████████████████████| 100%\n"
     ]
    }
   ],
   "source": [
    "h2o_df = h2o.H2OFrame(df)"
   ]
  },
  {
   "cell_type": "code",
   "execution_count": 70,
   "metadata": {
    "colab": {
     "base_uri": "https://localhost:8080/",
     "height": 51
    },
    "colab_type": "code",
    "id": "meqzcQNpI6JJ",
    "outputId": "f128cb0f-cbb1-4c25-b036-0ab3bb8c63a2"
   },
   "outputs": [
    {
     "name": "stdout",
     "output_type": "stream",
     "text": [
      "glm prediction progress: |████████████████████████████████████████████████| 100%\n",
      "glm prediction progress: |████████████████████████████████████████████████| 100%\n"
     ]
    }
   ],
   "source": [
    "df['CountPredicted'] = glm_poisson.predict(h2o_df).as_data_frame()\n",
    "df['AvgClaimPredicted'] = glm_gamma.predict(h2o_df).as_data_frame()"
   ]
  },
  {
   "cell_type": "code",
   "execution_count": 71,
   "metadata": {
    "colab": {
     "base_uri": "https://localhost:8080/",
     "height": 203
    },
    "colab_type": "code",
    "id": "gjK52WywJdHk",
    "outputId": "6088222b-3497-4971-e03d-da6c800136dc"
   },
   "outputs": [
    {
     "data": {
      "text/html": [
       "<div>\n",
       "<style scoped>\n",
       "    .dataframe tbody tr th:only-of-type {\n",
       "        vertical-align: middle;\n",
       "    }\n",
       "\n",
       "    .dataframe tbody tr th {\n",
       "        vertical-align: top;\n",
       "    }\n",
       "\n",
       "    .dataframe thead th {\n",
       "        text-align: right;\n",
       "    }\n",
       "</style>\n",
       "<table border=\"1\" class=\"dataframe\">\n",
       "  <thead>\n",
       "    <tr style=\"text-align: right;\">\n",
       "      <th></th>\n",
       "      <th>CountPredicted</th>\n",
       "      <th>AvgClaimPredicted</th>\n",
       "      <th>BurningCost</th>\n",
       "    </tr>\n",
       "  </thead>\n",
       "  <tbody>\n",
       "    <tr>\n",
       "      <th>0</th>\n",
       "      <td>0.365203</td>\n",
       "      <td>1040.884165</td>\n",
       "      <td>380.134137</td>\n",
       "    </tr>\n",
       "    <tr>\n",
       "      <th>1</th>\n",
       "      <td>0.365274</td>\n",
       "      <td>1040.508282</td>\n",
       "      <td>380.070571</td>\n",
       "    </tr>\n",
       "    <tr>\n",
       "      <th>2</th>\n",
       "      <td>0.321158</td>\n",
       "      <td>1000.561543</td>\n",
       "      <td>321.338065</td>\n",
       "    </tr>\n",
       "    <tr>\n",
       "      <th>3</th>\n",
       "      <td>0.264449</td>\n",
       "      <td>959.301700</td>\n",
       "      <td>253.686352</td>\n",
       "    </tr>\n",
       "    <tr>\n",
       "      <th>4</th>\n",
       "      <td>0.233909</td>\n",
       "      <td>976.884554</td>\n",
       "      <td>228.501760</td>\n",
       "    </tr>\n",
       "  </tbody>\n",
       "</table>\n",
       "</div>"
      ],
      "text/plain": [
       "   CountPredicted  AvgClaimPredicted  BurningCost\n",
       "0        0.365203        1040.884165   380.134137\n",
       "1        0.365274        1040.508282   380.070571\n",
       "2        0.321158        1000.561543   321.338065\n",
       "3        0.264449         959.301700   253.686352\n",
       "4        0.233909         976.884554   228.501760"
      ]
     },
     "execution_count": 71,
     "metadata": {},
     "output_type": "execute_result"
    }
   ],
   "source": [
    "df['BurningCost'] = df.CountPredicted * df.AvgClaimPredicted\n",
    "df[['CountPredicted', 'AvgClaimPredicted', 'BurningCost']].head()"
   ]
  },
  {
   "cell_type": "markdown",
   "metadata": {
    "colab_type": "text",
    "id": "Xljx8j0-_jXR"
   },
   "source": [
    "## * Домашнее задание: GLM для прогнозирования наступления страхового случая"
   ]
  },
  {
   "cell_type": "code",
   "execution_count": 77,
   "metadata": {
    "colab": {},
    "colab_type": "code",
    "id": "EgD9hvYAIury"
   },
   "outputs": [],
   "source": [
    "# Разбиение датасета на train/val/test\n",
    "\n",
    "x_train_ind, x_test_ind, y_train_ind, y_test_ind = train_test_split(df.drop(['ClaimInd', 'ClaimAmount', 'ClaimsCount', 'CountPredicted', 'AvgClaimPredicted', 'BurningCost'], axis=1), df.ClaimInd, test_size=0.3, random_state=1)\n",
    "x_valid_ind, x_test_ind, y_valid_ind, y_test_ind = train_test_split(x_test_ind, y_test_ind, test_size=0.5, random_state=1)"
   ]
  },
  {
   "cell_type": "code",
   "execution_count": 101,
   "metadata": {
    "colab": {
     "base_uri": "https://localhost:8080/",
     "height": 34
    },
    "colab_type": "code",
    "id": "Bt_i4clofGFR",
    "outputId": "9ceffa3e-182b-4841-f983-4474e9e39956"
   },
   "outputs": [
    {
     "name": "stdout",
     "output_type": "stream",
     "text": [
      "Parse progress: |█████████████████████████████████████████████████████████| 100%\n",
      "Parse progress: |█████████████████████████████████████████████████████████| 100%\n",
      "Parse progress: |█████████████████████████████████████████████████████████| 100%\n"
     ]
    }
   ],
   "source": [
    "# Преобразование в H2O-Frame\n",
    "train = h2o.H2OFrame(pd.concat([x_train_ind, y_train_ind], axis=1))\n",
    "test = h2o.H2OFrame(pd.concat([x_test_ind, y_test_ind], axis=1))\n",
    "valid = h2o.H2OFrame(pd.concat([x_valid_ind, y_valid_ind], axis=1))\n"
   ]
  },
  {
   "cell_type": "code",
   "execution_count": 103,
   "metadata": {
    "colab": {
     "base_uri": "https://localhost:8080/",
     "height": 34
    },
    "colab_type": "code",
    "id": "5ETBVckIjIRC",
    "outputId": "321ca189-e7d6-4a8c-a697-00df020d1f43",
    "scrolled": true
   },
   "outputs": [],
   "source": [
    "# Преобразуем целевую переменную ClaimInd в категориальную при помощи метода asfactor во всех наборах данных\n",
    "train['ClaimInd'] = train['ClaimInd'].asfactor()\n",
    "test['ClaimInd'] = test['ClaimInd'].asfactor()\n",
    "valid['ClaimInd'] = valid['ClaimInd'].asfactor()"
   ]
  },
  {
   "cell_type": "code",
   "execution_count": 172,
   "metadata": {
    "colab": {
     "base_uri": "https://localhost:8080/",
     "height": 34
    },
    "colab_type": "code",
    "id": "xoT7OG9ljwKY",
    "outputId": "725138a9-dcee-4262-9f5e-068c50e018df"
   },
   "outputs": [
    {
     "name": "stdout",
     "output_type": "stream",
     "text": [
      "glm Model Build progress: |███████████████████████████████████████████████| 100%\n"
     ]
    }
   ],
   "source": [
    "# Инициализируем и обучим GLM модель c кросс-валидацией\n",
    "\n",
    "glm_binom = H2OGeneralizedLinearEstimator(family = \"binomial\", link = \"Logit\", nfolds=5, seed=1)\n",
    "glm_binom.train(y=\"ClaimInd\", x = train.names[1:-1], training_frame = train, validation_frame = valid, weights_column = \"Exposure\")"
   ]
  },
  {
   "cell_type": "code",
   "execution_count": 173,
   "metadata": {
    "colab": {
     "base_uri": "https://localhost:8080/",
     "height": 34
    },
    "colab_type": "code",
    "id": "WXbmbcSDoOXs",
    "outputId": "08b9287e-d1d8-450d-ffbd-9fd6509f7132"
   },
   "outputs": [
    {
     "name": "stdout",
     "output_type": "stream",
     "text": [
      "\n",
      "GLM Model: summary\n"
     ]
    },
    {
     "data": {
      "text/html": [
       "<div>\n",
       "<style scoped>\n",
       "    .dataframe tbody tr th:only-of-type {\n",
       "        vertical-align: middle;\n",
       "    }\n",
       "\n",
       "    .dataframe tbody tr th {\n",
       "        vertical-align: top;\n",
       "    }\n",
       "\n",
       "    .dataframe thead th {\n",
       "        text-align: right;\n",
       "    }\n",
       "</style>\n",
       "<table border=\"1\" class=\"dataframe\">\n",
       "  <thead>\n",
       "    <tr style=\"text-align: right;\">\n",
       "      <th></th>\n",
       "      <th></th>\n",
       "      <th>family</th>\n",
       "      <th>link</th>\n",
       "      <th>regularization</th>\n",
       "      <th>number_of_predictors_total</th>\n",
       "      <th>number_of_active_predictors</th>\n",
       "      <th>number_of_iterations</th>\n",
       "      <th>training_frame</th>\n",
       "    </tr>\n",
       "  </thead>\n",
       "  <tbody>\n",
       "    <tr>\n",
       "      <th>0</th>\n",
       "      <td></td>\n",
       "      <td>binomial</td>\n",
       "      <td>logit</td>\n",
       "      <td>Elastic Net (alpha = 0.5, lambda = 3.295E-5 )</td>\n",
       "      <td>20</td>\n",
       "      <td>19</td>\n",
       "      <td>3</td>\n",
       "      <td>py_10_sid_9cf7</td>\n",
       "    </tr>\n",
       "  </tbody>\n",
       "</table>\n",
       "</div>"
      ],
      "text/plain": [
       "       family   link                                 regularization  \\\n",
       "0    binomial  logit  Elastic Net (alpha = 0.5, lambda = 3.295E-5 )   \n",
       "\n",
       "   number_of_predictors_total number_of_active_predictors  \\\n",
       "0                          20                          19   \n",
       "\n",
       "   number_of_iterations  training_frame  \n",
       "0                     3  py_10_sid_9cf7  "
      ]
     },
     "metadata": {},
     "output_type": "display_data"
    },
    {
     "data": {
      "text/plain": []
     },
     "execution_count": 173,
     "metadata": {},
     "output_type": "execute_result"
    }
   ],
   "source": [
    "# Параметры модели: распределение, функция связи, гиперпараметры регуляризации, количество использованных объясняющих переменных\n",
    "\n",
    "glm_binom.summary()"
   ]
  },
  {
   "cell_type": "code",
   "execution_count": 174,
   "metadata": {
    "colab": {
     "base_uri": "https://localhost:8080/",
     "height": 34
    },
    "colab_type": "code",
    "id": "mUvoWpAkoRir",
    "outputId": "bff03ac7-359a-480e-88b9-264b6ca0b40d"
   },
   "outputs": [
    {
     "data": {
      "text/html": [
       "<div>\n",
       "<style scoped>\n",
       "    .dataframe tbody tr th:only-of-type {\n",
       "        vertical-align: middle;\n",
       "    }\n",
       "\n",
       "    .dataframe tbody tr th {\n",
       "        vertical-align: top;\n",
       "    }\n",
       "\n",
       "    .dataframe thead th {\n",
       "        text-align: right;\n",
       "    }\n",
       "</style>\n",
       "<table border=\"1\" class=\"dataframe\">\n",
       "  <thead>\n",
       "    <tr style=\"text-align: right;\">\n",
       "      <th></th>\n",
       "      <th></th>\n",
       "      <th>mean</th>\n",
       "      <th>sd</th>\n",
       "      <th>cv_1_valid</th>\n",
       "      <th>cv_2_valid</th>\n",
       "      <th>cv_3_valid</th>\n",
       "      <th>cv_4_valid</th>\n",
       "      <th>cv_5_valid</th>\n",
       "    </tr>\n",
       "  </thead>\n",
       "  <tbody>\n",
       "    <tr>\n",
       "      <th>0</th>\n",
       "      <td>accuracy</td>\n",
       "      <td>0.38012105</td>\n",
       "      <td>0.08309258</td>\n",
       "      <td>0.2974821</td>\n",
       "      <td>0.32802323</td>\n",
       "      <td>0.5102684</td>\n",
       "      <td>0.35869595</td>\n",
       "      <td>0.40613565</td>\n",
       "    </tr>\n",
       "    <tr>\n",
       "      <th>1</th>\n",
       "      <td>auc</td>\n",
       "      <td>0.5666271</td>\n",
       "      <td>0.007033567</td>\n",
       "      <td>0.5665229</td>\n",
       "      <td>0.55731034</td>\n",
       "      <td>0.57392985</td>\n",
       "      <td>0.56241834</td>\n",
       "      <td>0.5729539</td>\n",
       "    </tr>\n",
       "    <tr>\n",
       "      <th>2</th>\n",
       "      <td>aucpr</td>\n",
       "      <td>0.15490796</td>\n",
       "      <td>0.0034584082</td>\n",
       "      <td>0.14882857</td>\n",
       "      <td>0.15561472</td>\n",
       "      <td>0.15739311</td>\n",
       "      <td>0.15649125</td>\n",
       "      <td>0.15621217</td>\n",
       "    </tr>\n",
       "    <tr>\n",
       "      <th>3</th>\n",
       "      <td>err</td>\n",
       "      <td>0.61987895</td>\n",
       "      <td>0.08309258</td>\n",
       "      <td>0.7025179</td>\n",
       "      <td>0.6719768</td>\n",
       "      <td>0.4897316</td>\n",
       "      <td>0.641304</td>\n",
       "      <td>0.5938644</td>\n",
       "    </tr>\n",
       "    <tr>\n",
       "      <th>4</th>\n",
       "      <td>err_count</td>\n",
       "      <td>4417.3555</td>\n",
       "      <td>569.50934</td>\n",
       "      <td>4984.753</td>\n",
       "      <td>4797.337</td>\n",
       "      <td>3529.885</td>\n",
       "      <td>4531.691</td>\n",
       "      <td>4243.111</td>\n",
       "    </tr>\n",
       "    <tr>\n",
       "      <th>5</th>\n",
       "      <td>f0point5</td>\n",
       "      <td>0.17103615</td>\n",
       "      <td>0.007153482</td>\n",
       "      <td>0.16399795</td>\n",
       "      <td>0.16488047</td>\n",
       "      <td>0.18112753</td>\n",
       "      <td>0.17028402</td>\n",
       "      <td>0.17489085</td>\n",
       "    </tr>\n",
       "    <tr>\n",
       "      <th>6</th>\n",
       "      <td>f1</td>\n",
       "      <td>0.24071603</td>\n",
       "      <td>0.0054158815</td>\n",
       "      <td>0.23562665</td>\n",
       "      <td>0.23490024</td>\n",
       "      <td>0.24690662</td>\n",
       "      <td>0.24105284</td>\n",
       "      <td>0.24509382</td>\n",
       "    </tr>\n",
       "    <tr>\n",
       "      <th>7</th>\n",
       "      <td>f2</td>\n",
       "      <td>0.40725365</td>\n",
       "      <td>0.011599598</td>\n",
       "      <td>0.41834587</td>\n",
       "      <td>0.4082877</td>\n",
       "      <td>0.38770857</td>\n",
       "      <td>0.4124741</td>\n",
       "      <td>0.40945208</td>\n",
       "    </tr>\n",
       "    <tr>\n",
       "      <th>8</th>\n",
       "      <td>lift_top_group</td>\n",
       "      <td>0.0</td>\n",
       "      <td>0.0</td>\n",
       "      <td>0.0</td>\n",
       "      <td>0.0</td>\n",
       "      <td>0.0</td>\n",
       "      <td>0.0</td>\n",
       "      <td>0.0</td>\n",
       "    </tr>\n",
       "    <tr>\n",
       "      <th>9</th>\n",
       "      <td>logloss</td>\n",
       "      <td>0.3801358</td>\n",
       "      <td>0.003816322</td>\n",
       "      <td>0.37383878</td>\n",
       "      <td>0.38097608</td>\n",
       "      <td>0.3796542</td>\n",
       "      <td>0.38323668</td>\n",
       "      <td>0.38297328</td>\n",
       "    </tr>\n",
       "    <tr>\n",
       "      <th>10</th>\n",
       "      <td>max_per_class_error</td>\n",
       "      <td>0.67624384</td>\n",
       "      <td>0.10781325</td>\n",
       "      <td>0.7837634</td>\n",
       "      <td>0.7420272</td>\n",
       "      <td>0.5067005</td>\n",
       "      <td>0.70481783</td>\n",
       "      <td>0.6439102</td>\n",
       "    </tr>\n",
       "    <tr>\n",
       "      <th>11</th>\n",
       "      <td>mcc</td>\n",
       "      <td>0.064458296</td>\n",
       "      <td>0.011820396</td>\n",
       "      <td>0.06733629</td>\n",
       "      <td>0.04775265</td>\n",
       "      <td>0.07955632</td>\n",
       "      <td>0.059198808</td>\n",
       "      <td>0.06844739</td>\n",
       "    </tr>\n",
       "    <tr>\n",
       "      <th>12</th>\n",
       "      <td>mean_per_class_accuracy</td>\n",
       "      <td>0.5439053</td>\n",
       "      <td>0.010643889</td>\n",
       "      <td>0.5411651</td>\n",
       "      <td>0.5309141</td>\n",
       "      <td>0.55940676</td>\n",
       "      <td>0.53974414</td>\n",
       "      <td>0.54829633</td>\n",
       "    </tr>\n",
       "    <tr>\n",
       "      <th>13</th>\n",
       "      <td>mean_per_class_error</td>\n",
       "      <td>0.45609468</td>\n",
       "      <td>0.010643889</td>\n",
       "      <td>0.4588349</td>\n",
       "      <td>0.46908584</td>\n",
       "      <td>0.44059324</td>\n",
       "      <td>0.46025583</td>\n",
       "      <td>0.45170364</td>\n",
       "    </tr>\n",
       "    <tr>\n",
       "      <th>14</th>\n",
       "      <td>mse</td>\n",
       "      <td>0.111205235</td>\n",
       "      <td>0.0014714337</td>\n",
       "      <td>0.10880548</td>\n",
       "      <td>0.11131914</td>\n",
       "      <td>0.111094736</td>\n",
       "      <td>0.11235247</td>\n",
       "      <td>0.112454355</td>\n",
       "    </tr>\n",
       "    <tr>\n",
       "      <th>15</th>\n",
       "      <td>null_deviance</td>\n",
       "      <td>5465.5938</td>\n",
       "      <td>72.52944</td>\n",
       "      <td>5348.451</td>\n",
       "      <td>5471.3</td>\n",
       "      <td>5524.432</td>\n",
       "      <td>5456.95</td>\n",
       "      <td>5526.8345</td>\n",
       "    </tr>\n",
       "    <tr>\n",
       "      <th>16</th>\n",
       "      <td>pr_auc</td>\n",
       "      <td>0.15490796</td>\n",
       "      <td>0.0034584082</td>\n",
       "      <td>0.14882857</td>\n",
       "      <td>0.15561472</td>\n",
       "      <td>0.15739311</td>\n",
       "      <td>0.15649125</td>\n",
       "      <td>0.15621217</td>\n",
       "    </tr>\n",
       "    <tr>\n",
       "      <th>17</th>\n",
       "      <td>precision</td>\n",
       "      <td>0.14339587</td>\n",
       "      <td>0.007159272</td>\n",
       "      <td>0.1363625</td>\n",
       "      <td>0.13754688</td>\n",
       "      <td>0.15380964</td>\n",
       "      <td>0.14241111</td>\n",
       "      <td>0.1468492</td>\n",
       "    </tr>\n",
       "    <tr>\n",
       "      <th>18</th>\n",
       "      <td>r2</td>\n",
       "      <td>0.0059365295</td>\n",
       "      <td>9.6016383E-4</td>\n",
       "      <td>0.005347295</td>\n",
       "      <td>0.00481532</td>\n",
       "      <td>0.006945079</td>\n",
       "      <td>0.0056472225</td>\n",
       "      <td>0.006927731</td>\n",
       "    </tr>\n",
       "    <tr>\n",
       "      <th>19</th>\n",
       "      <td>recall</td>\n",
       "      <td>0.7640545</td>\n",
       "      <td>0.089658216</td>\n",
       "      <td>0.86609364</td>\n",
       "      <td>0.80385554</td>\n",
       "      <td>0.62551403</td>\n",
       "      <td>0.78430617</td>\n",
       "      <td>0.7405029</td>\n",
       "    </tr>\n",
       "    <tr>\n",
       "      <th>20</th>\n",
       "      <td>residual_deviance</td>\n",
       "      <td>5421.323</td>\n",
       "      <td>69.18705</td>\n",
       "      <td>5305.186</td>\n",
       "      <td>5439.684</td>\n",
       "      <td>5472.939</td>\n",
       "      <td>5416.1836</td>\n",
       "      <td>5472.624</td>\n",
       "    </tr>\n",
       "    <tr>\n",
       "      <th>21</th>\n",
       "      <td>rmse</td>\n",
       "      <td>0.33346862</td>\n",
       "      <td>0.0022122534</td>\n",
       "      <td>0.32985675</td>\n",
       "      <td>0.33364522</td>\n",
       "      <td>0.33330876</td>\n",
       "      <td>0.33519018</td>\n",
       "      <td>0.33534214</td>\n",
       "    </tr>\n",
       "    <tr>\n",
       "      <th>22</th>\n",
       "      <td>specificity</td>\n",
       "      <td>0.32375616</td>\n",
       "      <td>0.10781325</td>\n",
       "      <td>0.2162366</td>\n",
       "      <td>0.25797275</td>\n",
       "      <td>0.49329948</td>\n",
       "      <td>0.29518217</td>\n",
       "      <td>0.35608977</td>\n",
       "    </tr>\n",
       "  </tbody>\n",
       "</table>\n",
       "</div>"
      ],
      "text/plain": [
       "                                     mean            sd   cv_1_valid  \\\n",
       "0                  accuracy    0.38012105    0.08309258    0.2974821   \n",
       "1                       auc     0.5666271   0.007033567    0.5665229   \n",
       "2                     aucpr    0.15490796  0.0034584082   0.14882857   \n",
       "3                       err    0.61987895    0.08309258    0.7025179   \n",
       "4                 err_count     4417.3555     569.50934     4984.753   \n",
       "5                  f0point5    0.17103615   0.007153482   0.16399795   \n",
       "6                        f1    0.24071603  0.0054158815   0.23562665   \n",
       "7                        f2    0.40725365   0.011599598   0.41834587   \n",
       "8            lift_top_group           0.0           0.0          0.0   \n",
       "9                   logloss     0.3801358   0.003816322   0.37383878   \n",
       "10      max_per_class_error    0.67624384    0.10781325    0.7837634   \n",
       "11                      mcc   0.064458296   0.011820396   0.06733629   \n",
       "12  mean_per_class_accuracy     0.5439053   0.010643889    0.5411651   \n",
       "13     mean_per_class_error    0.45609468   0.010643889    0.4588349   \n",
       "14                      mse   0.111205235  0.0014714337   0.10880548   \n",
       "15            null_deviance     5465.5938      72.52944     5348.451   \n",
       "16                   pr_auc    0.15490796  0.0034584082   0.14882857   \n",
       "17                precision    0.14339587   0.007159272    0.1363625   \n",
       "18                       r2  0.0059365295  9.6016383E-4  0.005347295   \n",
       "19                   recall     0.7640545   0.089658216   0.86609364   \n",
       "20        residual_deviance      5421.323      69.18705     5305.186   \n",
       "21                     rmse    0.33346862  0.0022122534   0.32985675   \n",
       "22              specificity    0.32375616    0.10781325    0.2162366   \n",
       "\n",
       "    cv_2_valid   cv_3_valid    cv_4_valid   cv_5_valid  \n",
       "0   0.32802323    0.5102684    0.35869595   0.40613565  \n",
       "1   0.55731034   0.57392985    0.56241834    0.5729539  \n",
       "2   0.15561472   0.15739311    0.15649125   0.15621217  \n",
       "3    0.6719768    0.4897316      0.641304    0.5938644  \n",
       "4     4797.337     3529.885      4531.691     4243.111  \n",
       "5   0.16488047   0.18112753    0.17028402   0.17489085  \n",
       "6   0.23490024   0.24690662    0.24105284   0.24509382  \n",
       "7    0.4082877   0.38770857     0.4124741   0.40945208  \n",
       "8          0.0          0.0           0.0          0.0  \n",
       "9   0.38097608    0.3796542    0.38323668   0.38297328  \n",
       "10   0.7420272    0.5067005    0.70481783    0.6439102  \n",
       "11  0.04775265   0.07955632   0.059198808   0.06844739  \n",
       "12   0.5309141   0.55940676    0.53974414   0.54829633  \n",
       "13  0.46908584   0.44059324    0.46025583   0.45170364  \n",
       "14  0.11131914  0.111094736    0.11235247  0.112454355  \n",
       "15      5471.3     5524.432       5456.95    5526.8345  \n",
       "16  0.15561472   0.15739311    0.15649125   0.15621217  \n",
       "17  0.13754688   0.15380964    0.14241111    0.1468492  \n",
       "18  0.00481532  0.006945079  0.0056472225  0.006927731  \n",
       "19  0.80385554   0.62551403    0.78430617    0.7405029  \n",
       "20    5439.684     5472.939     5416.1836     5472.624  \n",
       "21  0.33364522   0.33330876    0.33519018   0.33534214  \n",
       "22  0.25797275   0.49329948    0.29518217   0.35608977  "
      ]
     },
     "execution_count": 174,
     "metadata": {},
     "output_type": "execute_result"
    }
   ],
   "source": [
    "# Метрики качества модели - по всем данным и на кросс-валидации\n",
    "\n",
    "glm_binom.cross_validation_metrics_summary().as_data_frame()"
   ]
  },
  {
   "cell_type": "code",
   "execution_count": 175,
   "metadata": {
    "colab": {
     "base_uri": "https://localhost:8080/",
     "height": 34
    },
    "colab_type": "code",
    "id": "D8USRdSmoYy_",
    "outputId": "7a0e1fb0-9f0b-4331-86d5-154ab72585b0"
   },
   "outputs": [
    {
     "data": {
      "text/html": [
       "<div>\n",
       "<style scoped>\n",
       "    .dataframe tbody tr th:only-of-type {\n",
       "        vertical-align: middle;\n",
       "    }\n",
       "\n",
       "    .dataframe tbody tr th {\n",
       "        vertical-align: top;\n",
       "    }\n",
       "\n",
       "    .dataframe thead th {\n",
       "        text-align: right;\n",
       "    }\n",
       "</style>\n",
       "<table border=\"1\" class=\"dataframe\">\n",
       "  <thead>\n",
       "    <tr style=\"text-align: right;\">\n",
       "      <th></th>\n",
       "      <th>names</th>\n",
       "      <th>coefficients</th>\n",
       "      <th>standardized_coefficients</th>\n",
       "    </tr>\n",
       "  </thead>\n",
       "  <tbody>\n",
       "    <tr>\n",
       "      <th>0</th>\n",
       "      <td>Intercept</td>\n",
       "      <td>-2.174604</td>\n",
       "      <td>-1.939603</td>\n",
       "    </tr>\n",
       "    <tr>\n",
       "      <th>1</th>\n",
       "      <td>LicAge</td>\n",
       "      <td>-0.000189</td>\n",
       "      <td>-0.030147</td>\n",
       "    </tr>\n",
       "    <tr>\n",
       "      <th>2</th>\n",
       "      <td>Gender</td>\n",
       "      <td>0.015184</td>\n",
       "      <td>0.007353</td>\n",
       "    </tr>\n",
       "    <tr>\n",
       "      <th>3</th>\n",
       "      <td>MariStat</td>\n",
       "      <td>-0.052343</td>\n",
       "      <td>-0.018717</td>\n",
       "    </tr>\n",
       "    <tr>\n",
       "      <th>4</th>\n",
       "      <td>DrivAge</td>\n",
       "      <td>-0.003914</td>\n",
       "      <td>-0.058577</td>\n",
       "    </tr>\n",
       "    <tr>\n",
       "      <th>5</th>\n",
       "      <td>HasKmLimit</td>\n",
       "      <td>-0.425867</td>\n",
       "      <td>-0.132326</td>\n",
       "    </tr>\n",
       "    <tr>\n",
       "      <th>6</th>\n",
       "      <td>BonusMalus</td>\n",
       "      <td>0.006630</td>\n",
       "      <td>0.099958</td>\n",
       "    </tr>\n",
       "    <tr>\n",
       "      <th>7</th>\n",
       "      <td>OutUseNb</td>\n",
       "      <td>0.068515</td>\n",
       "      <td>0.045966</td>\n",
       "    </tr>\n",
       "    <tr>\n",
       "      <th>8</th>\n",
       "      <td>RiskArea</td>\n",
       "      <td>0.014767</td>\n",
       "      <td>0.032670</td>\n",
       "    </tr>\n",
       "    <tr>\n",
       "      <th>9</th>\n",
       "      <td>VehUsage_Private</td>\n",
       "      <td>-0.157718</td>\n",
       "      <td>-0.074800</td>\n",
       "    </tr>\n",
       "    <tr>\n",
       "      <th>10</th>\n",
       "      <td>VehUsage_Private+trip to office</td>\n",
       "      <td>-0.042014</td>\n",
       "      <td>-0.021003</td>\n",
       "    </tr>\n",
       "    <tr>\n",
       "      <th>11</th>\n",
       "      <td>VehUsage_Professional</td>\n",
       "      <td>0.226271</td>\n",
       "      <td>0.075917</td>\n",
       "    </tr>\n",
       "    <tr>\n",
       "      <th>12</th>\n",
       "      <td>VehUsage_Professional run</td>\n",
       "      <td>0.261009</td>\n",
       "      <td>0.035393</td>\n",
       "    </tr>\n",
       "    <tr>\n",
       "      <th>13</th>\n",
       "      <td>SocioCateg_CSP1</td>\n",
       "      <td>-0.113162</td>\n",
       "      <td>-0.017547</td>\n",
       "    </tr>\n",
       "    <tr>\n",
       "      <th>14</th>\n",
       "      <td>SocioCateg_CSP2</td>\n",
       "      <td>-0.187057</td>\n",
       "      <td>-0.031844</td>\n",
       "    </tr>\n",
       "    <tr>\n",
       "      <th>15</th>\n",
       "      <td>SocioCateg_CSP3</td>\n",
       "      <td>0.210429</td>\n",
       "      <td>0.021927</td>\n",
       "    </tr>\n",
       "    <tr>\n",
       "      <th>16</th>\n",
       "      <td>SocioCateg_CSP4</td>\n",
       "      <td>0.042364</td>\n",
       "      <td>0.010710</td>\n",
       "    </tr>\n",
       "    <tr>\n",
       "      <th>17</th>\n",
       "      <td>SocioCateg_CSP5</td>\n",
       "      <td>0.000000</td>\n",
       "      <td>0.000000</td>\n",
       "    </tr>\n",
       "    <tr>\n",
       "      <th>18</th>\n",
       "      <td>SocioCateg_CSP6</td>\n",
       "      <td>0.083165</td>\n",
       "      <td>0.034621</td>\n",
       "    </tr>\n",
       "    <tr>\n",
       "      <th>19</th>\n",
       "      <td>SocioCateg_CSP7</td>\n",
       "      <td>-0.102359</td>\n",
       "      <td>-0.001002</td>\n",
       "    </tr>\n",
       "    <tr>\n",
       "      <th>20</th>\n",
       "      <td>DrivAgeSq</td>\n",
       "      <td>0.000016</td>\n",
       "      <td>0.024499</td>\n",
       "    </tr>\n",
       "  </tbody>\n",
       "</table>\n",
       "</div>"
      ],
      "text/plain": [
       "                              names  coefficients  standardized_coefficients\n",
       "0                         Intercept     -2.174604                  -1.939603\n",
       "1                            LicAge     -0.000189                  -0.030147\n",
       "2                            Gender      0.015184                   0.007353\n",
       "3                          MariStat     -0.052343                  -0.018717\n",
       "4                           DrivAge     -0.003914                  -0.058577\n",
       "5                        HasKmLimit     -0.425867                  -0.132326\n",
       "6                        BonusMalus      0.006630                   0.099958\n",
       "7                          OutUseNb      0.068515                   0.045966\n",
       "8                          RiskArea      0.014767                   0.032670\n",
       "9                  VehUsage_Private     -0.157718                  -0.074800\n",
       "10  VehUsage_Private+trip to office     -0.042014                  -0.021003\n",
       "11            VehUsage_Professional      0.226271                   0.075917\n",
       "12        VehUsage_Professional run      0.261009                   0.035393\n",
       "13                  SocioCateg_CSP1     -0.113162                  -0.017547\n",
       "14                  SocioCateg_CSP2     -0.187057                  -0.031844\n",
       "15                  SocioCateg_CSP3      0.210429                   0.021927\n",
       "16                  SocioCateg_CSP4      0.042364                   0.010710\n",
       "17                  SocioCateg_CSP5      0.000000                   0.000000\n",
       "18                  SocioCateg_CSP6      0.083165                   0.034621\n",
       "19                  SocioCateg_CSP7     -0.102359                  -0.001002\n",
       "20                        DrivAgeSq      0.000016                   0.024499"
      ]
     },
     "execution_count": 175,
     "metadata": {},
     "output_type": "execute_result"
    }
   ],
   "source": [
    "# Таблица коэффициентов модели (в зависимости от модели могут выводиться также стандартная ошибка, z-score и p-value)\n",
    "\n",
    "glm_binom._model_json['output']['coefficients_table'].as_data_frame()"
   ]
  },
  {
   "cell_type": "code",
   "execution_count": 176,
   "metadata": {
    "colab": {
     "base_uri": "https://localhost:8080/",
     "height": 34
    },
    "colab_type": "code",
    "id": "KZ_XqTchoiYX",
    "outputId": "d91581c9-ea55-4f38-b04d-6c0cefcd9ddb"
   },
   "outputs": [
    {
     "data": {
      "text/html": [
       "<div>\n",
       "<style scoped>\n",
       "    .dataframe tbody tr th:only-of-type {\n",
       "        vertical-align: middle;\n",
       "    }\n",
       "\n",
       "    .dataframe tbody tr th {\n",
       "        vertical-align: top;\n",
       "    }\n",
       "\n",
       "    .dataframe thead th {\n",
       "        text-align: right;\n",
       "    }\n",
       "</style>\n",
       "<table border=\"1\" class=\"dataframe\">\n",
       "  <thead>\n",
       "    <tr style=\"text-align: right;\">\n",
       "      <th></th>\n",
       "      <th>overall</th>\n",
       "      <th>0</th>\n",
       "      <th>1</th>\n",
       "      <th>2</th>\n",
       "      <th>3</th>\n",
       "      <th>4</th>\n",
       "    </tr>\n",
       "  </thead>\n",
       "  <tbody>\n",
       "    <tr>\n",
       "      <th>Intercept</th>\n",
       "      <td>-1.93960</td>\n",
       "      <td>-1.93232</td>\n",
       "      <td>-1.94141</td>\n",
       "      <td>-1.93893</td>\n",
       "      <td>-1.94410</td>\n",
       "      <td>-1.94287</td>\n",
       "    </tr>\n",
       "    <tr>\n",
       "      <th>LicAge</th>\n",
       "      <td>-0.03015</td>\n",
       "      <td>-0.00198</td>\n",
       "      <td>-0.04881</td>\n",
       "      <td>-0.04011</td>\n",
       "      <td>-0.01205</td>\n",
       "      <td>-0.04484</td>\n",
       "    </tr>\n",
       "    <tr>\n",
       "      <th>Gender</th>\n",
       "      <td>0.00735</td>\n",
       "      <td>0.01668</td>\n",
       "      <td>-0.00960</td>\n",
       "      <td>0.01439</td>\n",
       "      <td>0.00535</td>\n",
       "      <td>0.01041</td>\n",
       "    </tr>\n",
       "    <tr>\n",
       "      <th>MariStat</th>\n",
       "      <td>-0.01872</td>\n",
       "      <td>-0.02308</td>\n",
       "      <td>-0.01435</td>\n",
       "      <td>-0.00271</td>\n",
       "      <td>-0.02325</td>\n",
       "      <td>-0.02996</td>\n",
       "    </tr>\n",
       "    <tr>\n",
       "      <th>DrivAge</th>\n",
       "      <td>-0.05858</td>\n",
       "      <td>-0.06898</td>\n",
       "      <td>-0.06051</td>\n",
       "      <td>-0.05147</td>\n",
       "      <td>-0.06707</td>\n",
       "      <td>-0.03554</td>\n",
       "    </tr>\n",
       "    <tr>\n",
       "      <th>HasKmLimit</th>\n",
       "      <td>-0.13233</td>\n",
       "      <td>-0.12035</td>\n",
       "      <td>-0.14276</td>\n",
       "      <td>-0.13230</td>\n",
       "      <td>-0.14198</td>\n",
       "      <td>-0.12420</td>\n",
       "    </tr>\n",
       "    <tr>\n",
       "      <th>BonusMalus</th>\n",
       "      <td>0.09996</td>\n",
       "      <td>0.10151</td>\n",
       "      <td>0.09171</td>\n",
       "      <td>0.10491</td>\n",
       "      <td>0.09917</td>\n",
       "      <td>0.10309</td>\n",
       "    </tr>\n",
       "    <tr>\n",
       "      <th>OutUseNb</th>\n",
       "      <td>0.04597</td>\n",
       "      <td>0.04728</td>\n",
       "      <td>0.05194</td>\n",
       "      <td>0.04401</td>\n",
       "      <td>0.04095</td>\n",
       "      <td>0.04528</td>\n",
       "    </tr>\n",
       "    <tr>\n",
       "      <th>RiskArea</th>\n",
       "      <td>0.03267</td>\n",
       "      <td>0.03332</td>\n",
       "      <td>0.03853</td>\n",
       "      <td>0.02093</td>\n",
       "      <td>0.03623</td>\n",
       "      <td>0.03362</td>\n",
       "    </tr>\n",
       "    <tr>\n",
       "      <th>VehUsage_Private</th>\n",
       "      <td>-0.07480</td>\n",
       "      <td>-0.08731</td>\n",
       "      <td>-0.07762</td>\n",
       "      <td>-0.06824</td>\n",
       "      <td>-0.06425</td>\n",
       "      <td>-0.06882</td>\n",
       "    </tr>\n",
       "    <tr>\n",
       "      <th>VehUsage_Private+trip to office</th>\n",
       "      <td>-0.02100</td>\n",
       "      <td>-0.01304</td>\n",
       "      <td>-0.02069</td>\n",
       "      <td>-0.01703</td>\n",
       "      <td>-0.02407</td>\n",
       "      <td>-0.02275</td>\n",
       "    </tr>\n",
       "    <tr>\n",
       "      <th>VehUsage_Professional</th>\n",
       "      <td>0.07592</td>\n",
       "      <td>0.08621</td>\n",
       "      <td>0.07384</td>\n",
       "      <td>0.07070</td>\n",
       "      <td>0.07479</td>\n",
       "      <td>0.07812</td>\n",
       "    </tr>\n",
       "    <tr>\n",
       "      <th>VehUsage_Professional run</th>\n",
       "      <td>0.03539</td>\n",
       "      <td>0.03268</td>\n",
       "      <td>0.03987</td>\n",
       "      <td>0.03626</td>\n",
       "      <td>0.03181</td>\n",
       "      <td>0.03785</td>\n",
       "    </tr>\n",
       "    <tr>\n",
       "      <th>SocioCateg_CSP1</th>\n",
       "      <td>-0.01755</td>\n",
       "      <td>-0.01786</td>\n",
       "      <td>-0.01574</td>\n",
       "      <td>-0.01732</td>\n",
       "      <td>-0.01567</td>\n",
       "      <td>-0.02234</td>\n",
       "    </tr>\n",
       "    <tr>\n",
       "      <th>SocioCateg_CSP2</th>\n",
       "      <td>-0.03184</td>\n",
       "      <td>-0.03440</td>\n",
       "      <td>-0.03050</td>\n",
       "      <td>-0.03419</td>\n",
       "      <td>-0.03943</td>\n",
       "      <td>-0.02136</td>\n",
       "    </tr>\n",
       "    <tr>\n",
       "      <th>SocioCateg_CSP3</th>\n",
       "      <td>0.02193</td>\n",
       "      <td>0.01841</td>\n",
       "      <td>0.03131</td>\n",
       "      <td>0.02467</td>\n",
       "      <td>0.01347</td>\n",
       "      <td>0.01958</td>\n",
       "    </tr>\n",
       "    <tr>\n",
       "      <th>SocioCateg_CSP4</th>\n",
       "      <td>0.01071</td>\n",
       "      <td>0.01054</td>\n",
       "      <td>-0.01070</td>\n",
       "      <td>0.01861</td>\n",
       "      <td>0.01875</td>\n",
       "      <td>0.01403</td>\n",
       "    </tr>\n",
       "    <tr>\n",
       "      <th>SocioCateg_CSP5</th>\n",
       "      <td>0.00000</td>\n",
       "      <td>-0.00453</td>\n",
       "      <td>0.00320</td>\n",
       "      <td>0.00000</td>\n",
       "      <td>0.00600</td>\n",
       "      <td>-0.00767</td>\n",
       "    </tr>\n",
       "    <tr>\n",
       "      <th>SocioCateg_CSP6</th>\n",
       "      <td>0.03462</td>\n",
       "      <td>0.03640</td>\n",
       "      <td>0.03136</td>\n",
       "      <td>0.05534</td>\n",
       "      <td>0.02011</td>\n",
       "      <td>0.02586</td>\n",
       "    </tr>\n",
       "    <tr>\n",
       "      <th>SocioCateg_CSP7</th>\n",
       "      <td>-0.00100</td>\n",
       "      <td>0.00689</td>\n",
       "      <td>-0.03348</td>\n",
       "      <td>-0.00101</td>\n",
       "      <td>0.00218</td>\n",
       "      <td>-0.00045</td>\n",
       "    </tr>\n",
       "    <tr>\n",
       "      <th>DrivAgeSq</th>\n",
       "      <td>0.02450</td>\n",
       "      <td>0.01612</td>\n",
       "      <td>0.03698</td>\n",
       "      <td>0.02228</td>\n",
       "      <td>0.01711</td>\n",
       "      <td>0.01779</td>\n",
       "    </tr>\n",
       "  </tbody>\n",
       "</table>\n",
       "</div>"
      ],
      "text/plain": [
       "                                 overall        0        1        2        3  \\\n",
       "Intercept                       -1.93960 -1.93232 -1.94141 -1.93893 -1.94410   \n",
       "LicAge                          -0.03015 -0.00198 -0.04881 -0.04011 -0.01205   \n",
       "Gender                           0.00735  0.01668 -0.00960  0.01439  0.00535   \n",
       "MariStat                        -0.01872 -0.02308 -0.01435 -0.00271 -0.02325   \n",
       "DrivAge                         -0.05858 -0.06898 -0.06051 -0.05147 -0.06707   \n",
       "HasKmLimit                      -0.13233 -0.12035 -0.14276 -0.13230 -0.14198   \n",
       "BonusMalus                       0.09996  0.10151  0.09171  0.10491  0.09917   \n",
       "OutUseNb                         0.04597  0.04728  0.05194  0.04401  0.04095   \n",
       "RiskArea                         0.03267  0.03332  0.03853  0.02093  0.03623   \n",
       "VehUsage_Private                -0.07480 -0.08731 -0.07762 -0.06824 -0.06425   \n",
       "VehUsage_Private+trip to office -0.02100 -0.01304 -0.02069 -0.01703 -0.02407   \n",
       "VehUsage_Professional            0.07592  0.08621  0.07384  0.07070  0.07479   \n",
       "VehUsage_Professional run        0.03539  0.03268  0.03987  0.03626  0.03181   \n",
       "SocioCateg_CSP1                 -0.01755 -0.01786 -0.01574 -0.01732 -0.01567   \n",
       "SocioCateg_CSP2                 -0.03184 -0.03440 -0.03050 -0.03419 -0.03943   \n",
       "SocioCateg_CSP3                  0.02193  0.01841  0.03131  0.02467  0.01347   \n",
       "SocioCateg_CSP4                  0.01071  0.01054 -0.01070  0.01861  0.01875   \n",
       "SocioCateg_CSP5                  0.00000 -0.00453  0.00320  0.00000  0.00600   \n",
       "SocioCateg_CSP6                  0.03462  0.03640  0.03136  0.05534  0.02011   \n",
       "SocioCateg_CSP7                 -0.00100  0.00689 -0.03348 -0.00101  0.00218   \n",
       "DrivAgeSq                        0.02450  0.01612  0.03698  0.02228  0.01711   \n",
       "\n",
       "                                       4  \n",
       "Intercept                       -1.94287  \n",
       "LicAge                          -0.04484  \n",
       "Gender                           0.01041  \n",
       "MariStat                        -0.02996  \n",
       "DrivAge                         -0.03554  \n",
       "HasKmLimit                      -0.12420  \n",
       "BonusMalus                       0.10309  \n",
       "OutUseNb                         0.04528  \n",
       "RiskArea                         0.03362  \n",
       "VehUsage_Private                -0.06882  \n",
       "VehUsage_Private+trip to office -0.02275  \n",
       "VehUsage_Professional            0.07812  \n",
       "VehUsage_Professional run        0.03785  \n",
       "SocioCateg_CSP1                 -0.02234  \n",
       "SocioCateg_CSP2                 -0.02136  \n",
       "SocioCateg_CSP3                  0.01958  \n",
       "SocioCateg_CSP4                  0.01403  \n",
       "SocioCateg_CSP5                 -0.00767  \n",
       "SocioCateg_CSP6                  0.02586  \n",
       "SocioCateg_CSP7                 -0.00045  \n",
       "DrivAgeSq                        0.01779  "
      ]
     },
     "execution_count": 176,
     "metadata": {},
     "output_type": "execute_result"
    }
   ],
   "source": [
    "# Таблица нормированных коэффициентов по всем данным и на кросс-валидации\n",
    "\n",
    "pmodels = {}\n",
    "pmodels['overall'] = glm_binom.coef_norm()\n",
    "for x in range(len(glm_binom.cross_validation_models())):\n",
    "    pmodels[x] = glm_binom.cross_validation_models()[x].coef_norm()\n",
    "pd.DataFrame.from_dict(pmodels).round(5)"
   ]
  },
  {
   "cell_type": "code",
   "execution_count": 177,
   "metadata": {
    "colab": {
     "base_uri": "https://localhost:8080/",
     "height": 34
    },
    "colab_type": "code",
    "id": "T9I59UXGpYlh",
    "outputId": "f97d64f0-a2bf-4fe4-e551-e88bd62c4bbe"
   },
   "outputs": [
    {
     "name": "stdout",
     "output_type": "stream",
     "text": [
      "glm prediction progress: |████████████████████████████████████████████████| 100%\n",
      "glm prediction progress: |████████████████████████████████████████████████| 100%\n",
      "glm prediction progress: |████████████████████████████████████████████████| 100%\n"
     ]
    }
   ],
   "source": [
    "# Построение прогнозных значений для обучающей, валидационной и тестовой выборок\n",
    "\n",
    "train_pred = glm_binom.predict(train).as_data_frame()\n",
    "valid_pred = glm_binom.predict(valid).as_data_frame()\n",
    "test_pred = glm_binom.predict(test).as_data_frame()"
   ]
  },
  {
   "cell_type": "code",
   "execution_count": 178,
   "metadata": {
    "colab": {},
    "colab_type": "code",
    "id": "g00U1gQBp_Wq"
   },
   "outputs": [],
   "source": [
    "from sklearn.metrics import accuracy_score, f1_score, confusion_matrix"
   ]
  },
  {
   "cell_type": "code",
   "execution_count": 179,
   "metadata": {
    "colab": {
     "base_uri": "https://localhost:8080/",
     "height": 34
    },
    "colab_type": "code",
    "id": "oVwiMaWlqRCz",
    "outputId": "46b0368e-08eb-4741-962d-820000fe166c"
   },
   "outputs": [],
   "source": [
    "# Выведем импортированные выше метрики классификации для обучающей, валидационной и тестовой выборок\n",
    "train_as = accuracy_score(train.as_data_frame()['ClaimInd'].values, train_pred.predict)\n",
    "valid_as = accuracy_score(valid.as_data_frame()['ClaimInd'].values, valid_pred.predict)\n",
    "test_as = accuracy_score(test.as_data_frame()['ClaimInd'].values, test_pred.predict)\n",
    "\n",
    "train_f1 = f1_score(train.as_data_frame()['ClaimInd'].values, train_pred.predict)\n",
    "valid_f1 = f1_score(valid.as_data_frame()['ClaimInd'].values, valid_pred.predict)\n",
    "test_f1 = f1_score(test.as_data_frame()['ClaimInd'].values, test_pred.predict)\n",
    "\n",
    "train_confusion_matrix = confusion_matrix(train.as_data_frame()['ClaimInd'].values, train_pred.predict)\n",
    "valid_confusion_matrix = confusion_matrix(valid.as_data_frame()['ClaimInd'].values, valid_pred.predict)\n",
    "test_confusion_matrix = confusion_matrix(test.as_data_frame()['ClaimInd'].values, test_pred.predict)"
   ]
  },
  {
   "cell_type": "code",
   "execution_count": 180,
   "metadata": {},
   "outputs": [
    {
     "name": "stdout",
     "output_type": "stream",
     "text": [
      "               train | valid | test\n",
      "Accuracy_score: 0.535| 0.538 |0.537\n",
      "F1 score      : 0.185| 0.186 |0.186\n",
      "Confusion matrix train\n",
      " [[38910 34063]\n",
      " [ 3395  4240]]\n",
      "Confusion matrix valid\n",
      " [[8374 7290]\n",
      " [ 696  913]]\n",
      "Confusion matrix test\n",
      " [[8363 7286]\n",
      " [ 713  912]]\n"
     ]
    }
   ],
   "source": [
    "print('               train | valid | test')\n",
    "print(f'Accuracy_score: {train_as:.3f}| {valid_as:.3f} |{test_as:.3f}')\n",
    "print(f'F1 score      : {train_f1:.3f}| {valid_f1:.3f} |{test_f1:.3f}')\n",
    "print(f'Confusion matrix train\\n {train_confusion_matrix}')\n",
    "print(f'Confusion matrix valid\\n {valid_confusion_matrix}') \n",
    "print(f'Confusion matrix test\\n {test_confusion_matrix}')"
   ]
  },
  {
   "cell_type": "markdown",
   "metadata": {},
   "source": [
    "Низкая точность, высокая полнота. Недообученность модели.\n",
    "Можно попробовать производить стандартизацию и нормализацию признаков, понижать размерность данных, настраивать веса классов. Можно менять модель, скажем на случайный лест или бустинг, что бы повысить точность. Можно проводить анализ признаков на важность, что бы исключить плохие признаки."
   ]
  },
  {
   "cell_type": "markdown",
   "metadata": {
    "colab_type": "text",
    "id": "2TNOSiKDs-U6"
   },
   "source": [
    "Какие проблемы вы здесь видите? Как можно улучшить данный результат?"
   ]
  }
 ],
 "metadata": {
  "colab": {
   "collapsed_sections": [
    "Xljx8j0-_jXR"
   ],
   "name": "GB Lesson 2.ipynb",
   "provenance": []
  },
  "kernelspec": {
   "display_name": "Python 3",
   "language": "python",
   "name": "python3"
  },
  "language_info": {
   "codemirror_mode": {
    "name": "ipython",
    "version": 3
   },
   "file_extension": ".py",
   "mimetype": "text/x-python",
   "name": "python",
   "nbconvert_exporter": "python",
   "pygments_lexer": "ipython3",
   "version": "3.7.6"
  }
 },
 "nbformat": 4,
 "nbformat_minor": 1
}
